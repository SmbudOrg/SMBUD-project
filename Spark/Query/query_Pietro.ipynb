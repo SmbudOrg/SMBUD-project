{
 "cells": [
  {
   "cell_type": "code",
   "execution_count": 1,
   "metadata": {},
   "outputs": [
    {
     "name": "stderr",
     "output_type": "stream",
     "text": [
      "Setting default log level to \"WARN\".\n",
      "To adjust logging level use sc.setLogLevel(newLevel). For SparkR, use setLogLevel(newLevel).\n"
     ]
    },
    {
     "name": "stdout",
     "output_type": "stream",
     "text": [
      "22/12/09 23:34:42 WARN NativeCodeLoader: Unable to load native-hadoop library for your platform... using builtin-java classes where applicable\n"
     ]
    }
   ],
   "source": [
    "from pyspark.sql import SparkSession\n",
    "from pyspark.sql import SparkSession\n",
    "from pyspark.sql.types import StructType, StructField, StringType, FloatType, ArrayType\n",
    "from pyspark.sql.functions import col                       # Filtering using the col() function\n",
    "from pyspark.sql.functions import array_contains            # Filtering on array columns\n",
    "from pyspark.sql.functions import explode                   # Explode Arrays in Individual Rows\n",
    "from pyspark.sql.functions import sum, avg, count, max      # Multiple Aggregations\n",
    "from pyspark.sql.functions import first, last\n",
    "\n",
    "# Create an entry point to the PySpark Application\n",
    "spark = SparkSession.builder \\\n",
    "      .master(\"local\") \\\n",
    "      .appName(\"MyFirstSparkApplication\") \\\n",
    "      .getOrCreate()"
   ]
  },
  {
   "cell_type": "code",
   "execution_count": 2,
   "metadata": {},
   "outputs": [
    {
     "name": "stderr",
     "output_type": "stream",
     "text": [
      "                                                                                \r"
     ]
    }
   ],
   "source": [
    "#IMPORT\n",
    "\n",
    "df_book = spark.read.option(\"multiline\",\"true\")  \\\n",
    "      .json(\"dataset/book-db.json\")\n",
    "\n",
    "df_article = spark.read.option(\"multiline\",\"true\")  \\\n",
    "      .json(\"dataset/article-db.json\")\n",
    "\n",
    "df_incollection = spark.read.option(\"multiline\",\"true\")  \\\n",
    "      .json(\"dataset/incollection-db.json\")\n",
    "\n",
    "df_www = spark.read.option(\"multiline\",\"true\")  \\\n",
    "      .json(\"dataset/www-db.json\")"
   ]
  },
  {
   "cell_type": "code",
   "execution_count": 3,
   "metadata": {},
   "outputs": [
    {
     "name": "stdout",
     "output_type": "stream",
     "text": [
      "root\n",
      " |-- author: array (nullable = true)\n",
      " |    |-- element: struct (containsNull = true)\n",
      " |    |    |-- name: string (nullable = true)\n",
      " |    |    |-- orcid: string (nullable = true)\n",
      " |-- key: string (nullable = true)\n",
      " |-- note: array (nullable = true)\n",
      " |    |-- element: string (containsNull = true)\n",
      " |-- url: array (nullable = true)\n",
      " |    |-- element: string (containsNull = true)\n",
      "\n"
     ]
    }
   ],
   "source": [
    "df_www.printSchema()"
   ]
  },
  {
   "cell_type": "code",
   "execution_count": 4,
   "metadata": {},
   "outputs": [
    {
     "name": "stdout",
     "output_type": "stream",
     "text": [
      "root\n",
      " |-- author: array (nullable = true)\n",
      " |    |-- element: struct (containsNull = true)\n",
      " |    |    |-- name: string (nullable = true)\n",
      " |    |    |-- orcid: string (nullable = true)\n",
      " |-- citations: long (nullable = true)\n",
      " |-- crossref: string (nullable = true)\n",
      " |-- editor: array (nullable = true)\n",
      " |    |-- element: struct (containsNull = true)\n",
      " |    |    |-- name: string (nullable = true)\n",
      " |    |    |-- orcid: string (nullable = true)\n",
      " |-- ee: array (nullable = true)\n",
      " |    |-- element: string (containsNull = true)\n",
      " |-- isbn: array (nullable = true)\n",
      " |    |-- element: string (containsNull = true)\n",
      " |-- key: string (nullable = true)\n",
      " |-- keyword: array (nullable = true)\n",
      " |    |-- element: string (containsNull = true)\n",
      " |-- pages: long (nullable = true)\n",
      " |-- publisher: string (nullable = true)\n",
      " |-- series: struct (nullable = true)\n",
      " |    |-- href: string (nullable = true)\n",
      " |    |-- title: string (nullable = true)\n",
      " |-- title: string (nullable = true)\n",
      " |-- volume: long (nullable = true)\n",
      " |-- year: long (nullable = true)\n",
      "\n"
     ]
    }
   ],
   "source": [
    "df_book.printSchema()"
   ]
  },
  {
   "cell_type": "code",
   "execution_count": 13,
   "metadata": {},
   "outputs": [
    {
     "name": "stdout",
     "output_type": "stream",
     "text": [
      "root\n",
      " |-- author: array (nullable = true)\n",
      " |    |-- element: struct (containsNull = true)\n",
      " |    |    |-- name: string (nullable = true)\n",
      " |    |    |-- orcid: string (nullable = true)\n",
      " |-- citations: long (nullable = true)\n",
      " |-- cite: array (nullable = true)\n",
      " |    |-- element: string (containsNull = true)\n",
      " |-- ee: array (nullable = true)\n",
      " |    |-- element: string (containsNull = true)\n",
      " |-- journal: string (nullable = true)\n",
      " |-- key: string (nullable = true)\n",
      " |-- keyword: array (nullable = true)\n",
      " |    |-- element: string (containsNull = true)\n",
      " |-- note: array (nullable = true)\n",
      " |    |-- element: string (containsNull = true)\n",
      " |-- pages: long (nullable = true)\n",
      " |-- publisher: string (nullable = true)\n",
      " |-- title: string (nullable = true)\n",
      " |-- volume: long (nullable = true)\n",
      " |-- year: long (nullable = true)\n",
      "\n",
      "+--------------------+---------+--------------------+--------------------+--------------------+--------------------+--------------------+----+-----+---------+--------------------+------+----+\n",
      "|              author|citations|                cite|                  ee|             journal|                 key|             keyword|note|pages|publisher|               title|volume|year|\n",
      "+--------------------+---------+--------------------+--------------------+--------------------+--------------------+--------------------+----+-----+---------+--------------------+------+----+\n",
      "|[{Dennis E. Shash...|       81|[journals/is/Jens...|[http://sites.com...|IEEE Data Eng. Bull.|journals/debu/Sha...|[java, graphs, de...|null|   37|     null|Tuning Time Serie...|    22|1999|\n",
      "|[{Nick Roussopoul...|     null|[conf/sigmod/Blak...|[http://sites.com...|IEEE Data Eng. Bull.|journals/debu/Rou...|[debugging, graph...|null|   27|     null|The ADMS Project:...|    18|1995|\n",
      "|[{Giansalvatore M...|     null|[www/org/w3/ql98,...|[http://sites.com...|IEEE Data Eng. Bull.|journals/debu/Mec...|[algorithms, ai, ...|null|    4|     null|Araneus in the Er...|    22|1999|\n",
      "|[{Dimitrios Georg...|     null|[books/mk/elmagar...|[http://sites.com...|IEEE Data Eng. Bull.|journals/debu/Geo...|                null|null|   40|     null|An Extended Trans...|    16|1993|\n",
      "|[{Max J. Egenhofe...|       88|[journals/cacm/Al...|[http://sites.com...|IEEE Data Eng. Bull.|journals/debu/Ege...|[c#, computer sci...|null|   26|     null|Definitions of Li...|    16|1993|\n",
      "|[{Jaideep Srivast...|      123|[journals/tkde/Bo...|[http://sites.com...|IEEE Data Eng. Bull.|journals/debu/Sri...|[redis, data mini...|null|   45|     null|Data Declustering...|    17|1994|\n",
      "|[{Surajit Chaudhu...|       72|[conf/vldb/Chaudh...|[http://sites.com...|IEEE Data Eng. Bull.|journals/debu/Cha...|[A*, data mining,...|null|   45|     null|Self-Tuning Techn...|    22|1999|\n",
      "|[{Joachim Hammer,...|        0|[conf/sigmod/Abit...|[http://sites.com...|IEEE Data Eng. Bull.|journals/debu/Ham...|[data mining, red...|null|   30|     null|The Stanford Data...|    18|1995|\n",
      "|[{Goetz Graefe, G...|        4|[conf/sigmod/Blak...|[http://sites.com...|IEEE Data Eng. Bull.|journals/debu/Gra...|                null|null|   15|     null|The Cascades Fram...|    18|1995|\n",
      "|[{Georgios Evange...|     null|[journals/tse/Ben...|[http://sites.com...|IEEE Data Eng. Bull.|journals/debu/Eva...|                null|null|   22|     null|Using the Holy Br...|    16|1993|\n",
      "|[{Praveen Seshadr...|      128|[conf/icde/Aberer...|[http://sites.com...|IEEE Data Eng. Bull.|journals/debu/Ses...|[data processing,...|null|   29|     null|E-ADTs: Turbo-Cha...|    19|1996|\n",
      "|[{Theodore Johnso...|     null|[conf/vldb/ChanI9...|[http://sites.com...|IEEE Data Eng. Bull.|journals/debu/Joh...|[cloud computing,...|null|   32|     null|Some Approaches t...|    22|1999|\n",
      "|[{Gang Zhou, Gang...|     null|[books/aw/Abitebo...|[http://sites.com...|IEEE Data Eng. Bull.|journals/debu/Zho...|[interfaces, non-...|null|    9|     null|Data Integration ...|    18|1995|\n",
      "|[{Joseph M. Helle...|      114|[conf/icde/AikenC...|[http://sites.com...|IEEE Data Eng. Bull.|journals/debu/Hel...|     [A*, neo4j, A*]|null|   48|     null|Online Processing...|    20|1997|\n",
      "|[{Norbert Fuhr, N...|     null|[conf/sigir/Allen...|[http://sites.com...|IEEE Data Eng. Bull.|journals/debu/Fuhr96|[dijkstra, graph ...|null|   47|     null|Models for Integr...|    19|1996|\n",
      "|[{Gio Wiederhold,...|     null|[conf/dasfaa/El-S...|[http://sites.com...|IEEE Data Eng. Bull.|journals/debu/Wie...|[cloud computing,...|null|   43|     null|Multimedia Databa...|    14|1991|\n",
      "|[{Narain H. Gehan...|      119|[conf/vldb/Gehani...|[http://sites.com...|IEEE Data Eng. Bull.|journals/debu/Geh...|[A*, relational d...|null|   26|     null|Active Database F...|    15|1992|\n",
      "|[{Mary F. Fernand...|     null|[conf/icdt/Abiteb...|[http://sites.com...|IEEE Data Eng. Bull.|journals/debu/Fer...|[cloud computing,...|null|    8|     null|Web-Site Manageme...|    21|1998|\n",
      "|[{Andreas Reuter ...|       85|[books/mk/Elmagar...|[http://sites.com...|IEEE Data Eng. Bull.|journals/debu/Reu...|[A*, interfaces, ...|null|   22|     null|ConTracts - A Low...|    18|1995|\n",
      "|[{Manish Arya, Ma...|       36|[conf/sigmod/Agra...|[http://sites.com...|IEEE Data Eng. Bull.|journals/debu/Ary...|                [ai]|null|    2|     null|QBISM: A Prototyp...|    16|1993|\n",
      "+--------------------+---------+--------------------+--------------------+--------------------+--------------------+--------------------+----+-----+---------+--------------------+------+----+\n",
      "only showing top 20 rows\n",
      "\n"
     ]
    }
   ],
   "source": [
    "df_article.printSchema()\n",
    "df_article.show()"
   ]
  },
  {
   "cell_type": "code",
   "execution_count": 10,
   "metadata": {},
   "outputs": [
    {
     "name": "stdout",
     "output_type": "stream",
     "text": [
      "root\n",
      " |-- author: array (nullable = true)\n",
      " |    |-- element: struct (containsNull = true)\n",
      " |    |    |-- name: string (nullable = true)\n",
      " |    |    |-- orcid: string (nullable = true)\n",
      " |-- citations: long (nullable = true)\n",
      " |-- crossref: string (nullable = true)\n",
      " |-- ee: array (nullable = true)\n",
      " |    |-- element: string (containsNull = true)\n",
      " |-- key: string (nullable = true)\n",
      " |-- keyword: array (nullable = true)\n",
      " |    |-- element: string (containsNull = true)\n",
      " |-- pages: long (nullable = true)\n",
      " |-- title: string (nullable = true)\n",
      " |-- year: long (nullable = true)\n",
      "\n"
     ]
    }
   ],
   "source": [
    "df_incollection.printSchema()"
   ]
  },
  {
   "cell_type": "markdown",
   "metadata": {},
   "source": [
    "<h1>1.Query where e join</h1>"
   ]
  },
  {
   "cell_type": "code",
   "execution_count": 6,
   "metadata": {},
   "outputs": [
    {
     "name": "stdout",
     "output_type": "stream",
     "text": [
      "+--------------------+---------+--------------------+--------------------+---------+--------------------+--------------------+--------------------+--------------------+--------------------+----+-----+---------+--------------------+------+----+\n",
      "|                 key|citations|            explcite|              author|citations|                cite|                  ee|             journal|                 key|             keyword|note|pages|publisher|               title|volume|year|\n",
      "+--------------------+---------+--------------------+--------------------+---------+--------------------+--------------------+--------------------+--------------------+--------------------+----+-----+---------+--------------------+------+----+\n",
      "|journals/tkde/Del...|      141|journals/debu/Rou...|[{Nick Roussopoul...|     null|[conf/sigmod/Blak...|[http://sites.com...|IEEE Data Eng. Bull.|journals/debu/Rou...|[debugging, graph...|null|   27|     null|The ADMS Project:...|    18|1995|\n",
      "|journals/vldb/Har...|     null|journals/debu/Rou...|[{Nick Roussopoul...|     null|[conf/sigmod/Blak...|[http://sites.com...|IEEE Data Eng. Bull.|journals/debu/Rou...|[debugging, graph...|null|   27|     null|The ADMS Project:...|    18|1995|\n",
      "|journals/sigmod/R...|       33|journals/debu/Rou...|[{Nick Roussopoul...|     null|[conf/sigmod/Blak...|[http://sites.com...|IEEE Data Eng. Bull.|journals/debu/Rou...|[debugging, graph...|null|   27|     null|The ADMS Project:...|    18|1995|\n",
      "|journals/debu/Gup...|       84|journals/debu/Rou...|[{Nick Roussopoul...|     null|[conf/sigmod/Blak...|[http://sites.com...|IEEE Data Eng. Bull.|journals/debu/Rou...|[debugging, graph...|null|   27|     null|The ADMS Project:...|    18|1995|\n",
      "| journals/tkde/LiL98|     null|journals/debu/Geo...|[{Dimitrios Georg...|     null|[books/mk/elmagar...|[http://sites.com...|IEEE Data Eng. Bull.|journals/debu/Geo...|                null|null|   40|     null|An Extended Trans...|    16|1993|\n",
      "|journals/vldb/Kab...|       67|journals/debu/Gra...|[{Goetz Graefe, G...|        4|[conf/sigmod/Blak...|[http://sites.com...|IEEE Data Eng. Bull.|journals/debu/Gra...|                null|null|   15|     null|The Cascades Fram...|    18|1995|\n",
      "|journals/debu/Ozc...|     null|journals/debu/Gra...|[{Goetz Graefe, G...|        4|[conf/sigmod/Blak...|[http://sites.com...|IEEE Data Eng. Bull.|journals/debu/Gra...|                null|null|   15|     null|The Cascades Fram...|    18|1995|\n",
      "|journals/vldb/Eva...|      120|journals/debu/Eva...|[{Georgios Evange...|     null|[journals/tse/Ben...|[http://sites.com...|IEEE Data Eng. Bull.|journals/debu/Eva...|                null|null|   22|     null|Using the Holy Br...|    16|1993|\n",
      "|journals/sigmod/G...|       23|journals/debu/Zho...|[{Gang Zhou, Gang...|     null|[books/aw/Abitebo...|[http://sites.com...|IEEE Data Eng. Bull.|journals/debu/Zho...|[interfaces, non-...|null|    9|     null|Data Integration ...|    18|1995|\n",
      "|journals/sigmod/D...|       33|journals/debu/Zho...|[{Gang Zhou, Gang...|     null|[books/aw/Abitebo...|[http://sites.com...|IEEE Data Eng. Bull.|journals/debu/Zho...|[interfaces, non-...|null|    9|     null|Data Integration ...|    18|1995|\n",
      "|journals/tkde/Chu...|     null|journals/debu/Ary...|[{Manish Arya, Ma...|       36|[conf/sigmod/Agra...|[http://sites.com...|IEEE Data Eng. Bull.|journals/debu/Ary...|                [ai]|null|    2|     null|QBISM: A Prototyp...|    16|1993|\n",
      "|journals/vldb/Lin...|     null|journals/debu/Ary...|[{Manish Arya, Ma...|       36|[conf/sigmod/Agra...|[http://sites.com...|IEEE Data Eng. Bull.|journals/debu/Ary...|                [ai]|null|    2|     null|QBISM: A Prototyp...|    16|1993|\n",
      "|journals/debu/Fal...|     null|journals/debu/Ary...|[{Manish Arya, Ma...|       36|[conf/sigmod/Agra...|[http://sites.com...|IEEE Data Eng. Bull.|journals/debu/Ary...|                [ai]|null|    2|     null|QBISM: A Prototyp...|    16|1993|\n",
      "|journals/tods/Cas...|      100|journals/debu/Kap...|[{Gerti Kappel, G...|      115|[books/aw/Bertino...|[http://sites.com...|IEEE Data Eng. Bull.|journals/debu/Kap...|   [cypher, mongodb]|null|   44|     null|Workflow Manageme...|    18|1995|\n",
      "|journals/sigmod/K...|       14|journals/debu/Kap...|[{Gerti Kappel, G...|      115|[books/aw/Bertino...|[http://sites.com...|IEEE Data Eng. Bull.|journals/debu/Kap...|   [cypher, mongodb]|null|   44|     null|Workflow Manageme...|    18|1995|\n",
      "|journals/debu/Joh...|     null|journals/debu/Joh...|[{Theodore Johnso...|     null|[conf/pdis/ColbyM...|[http://sites.com...|IEEE Data Eng. Bull.|journals/debu/Joh...|                null|null|   14|     null|Some Approaches t...|    20|1997|\n",
      "|journals/debu/Bra...|     null|journals/debu/Soc...|[{Gary H. Sockut,...|      139|[conf/sigmod/Moha...|[http://sites.com...|IEEE Data Eng. Bull.|journals/debu/Soc...|[computer science...|null|   43|     null|A Survey on Onlin...|    19|1996|\n",
      "|journals/sigmod/V...|     null|journals/debu/Sar...|[{Sunita Sarawagi...|       96|[conf/vldb/Agarwa...|[http://sites.com...|IEEE Data Eng. Bull.|journals/debu/Sar...|   [data processing]|null|   46|     null| Indexing OLAP Data.|    20|1997|\n",
      "|journals/sigmod/P...|     null|journals/debu/Sar...|[{Sunita Sarawagi...|       96|[conf/vldb/Agarwa...|[http://sites.com...|IEEE Data Eng. Bull.|journals/debu/Sar...|   [data processing]|null|   46|     null| Indexing OLAP Data.|    20|1997|\n",
      "|journals/vldb/Ant...|       49|journals/debu/Ant...|[{Gennady Antoshe...|       81|[..., conf/vldb/A...|[http://sites.com...|IEEE Data Eng. Bull.|journals/debu/Ant...|[redis, interface...|null|   35|     null|Query Processing ...|    16|1993|\n",
      "+--------------------+---------+--------------------+--------------------+---------+--------------------+--------------------+--------------------+--------------------+--------------------+----+-----+---------+--------------------+------+----+\n",
      "only showing top 20 rows\n",
      "\n"
     ]
    }
   ],
   "source": [
    "#Find articles cited in the articles with most number of citations\n",
    "df_article.select(df_article.key,df_article.citations,explode(df_article.cite).alias(\"explcite\")).\\\n",
    "    sort(df_article.citations.desc()).\\\n",
    "    join(df_article.alias(\"articles2\"),col(\"articles2.key\") == col(\"explcite\"),\"inner\").\\\n",
    "    show()"
   ]
  },
  {
   "cell_type": "markdown",
   "metadata": {},
   "source": [
    "<h1>2.Limit,like,nested and where</h1>"
   ]
  },
  {
   "cell_type": "code",
   "execution_count": 7,
   "metadata": {},
   "outputs": [
    {
     "name": "stdout",
     "output_type": "stream",
     "text": [
      "+----------------------+-------------------+\n",
      "|name                  |keyword            |\n",
      "+----------------------+-------------------+\n",
      "|Ligang Wu             |graph database     |\n",
      "|Muhammad Shafique 0001|data mining        |\n",
      "|Krishnendu Chakrabarty|data processing    |\n",
      "|Georg Lauhoff         |key-value databases|\n",
      "|Shakti Sahi           |database design    |\n",
      "+----------------------+-------------------+\n",
      "\n"
     ]
    }
   ],
   "source": [
    "#Trova gli autori con libri con una certa keyword \n",
    "#df_book.filter(array_contains(col(\"keyword\"), \"data mining\")).select(col(\"author\")).limit(5).show(truncate = False)\n",
    "explauthors = df_book.select(explode(col(\"author\")).alias(\"author\"),col(\"keyword\"))\n",
    "explauthors.select(col(\"author.name\"),explode(explauthors.keyword).alias(\"keyword\")).\\\n",
    "    filter(col(\"keyword\").like(\"%data%\") & col(\"author.name\").isNotNull()).\\\n",
    "    distinct().\\\n",
    "    limit(5).\\\n",
    "    show(truncate = False)"
   ]
  },
  {
   "cell_type": "markdown",
   "metadata": {},
   "source": [
    "<h1>3.Group By, nested query, filter(where)</h1>\n",
    "trova per ogni anno le homepage dell' autore con più articoli in quell'anno per gli anni dopo il 1980"
   ]
  },
  {
   "cell_type": "code",
   "execution_count": 8,
   "metadata": {},
   "outputs": [
    {
     "name": "stdout",
     "output_type": "stream",
     "text": [
      "+----+--------------------+-----+\n",
      "|year|              author|count|\n",
      "+----+--------------------+-----+\n",
      "|2012|[Jacques Wainer, ...|    1|\n",
      "|2001| [Marianne Winslett]|    3|\n",
      "|2000| [Yuqing Melanie Wu]|    6|\n",
      "|1999|    [H. V. Jagadish]|    6|\n",
      "|1998|[Jonathan E. Cook...|    2|\n",
      "|1997|[Michael J. Carey...|    2|\n",
      "|1996|[Michael Stonebra...|    2|\n",
      "|1995|[Xiao-Jia M. Zhou...|    2|\n",
      "|1994|[Stamatis Vassili...|    2|\n",
      "|1993|[Philip S. Yu, Do...|    2|\n",
      "|1992|[Vijay Kumar 0002...|    3|\n",
      "|1991|[Gio Wiederhold, ...|    2|\n",
      "|1990|[Sushil Jajodia, ...|    5|\n",
      "|1989|[Lothar F. Macker...|    3|\n",
      "|1988|[Karl-Hans Blasiu...|    3|\n",
      "|1987|[Toshihide Ibarak...|    3|\n",
      "|1986|       [Rudi Studer]|    1|\n",
      "|1985|[Y. C. Tay, Natha...|    1|\n",
      "|1984|[Wolfgang Effelsb...|    1|\n",
      "|1983|  [Wiebren de Jonge]|    2|\n",
      "+----+--------------------+-----+\n",
      "only showing top 20 rows\n",
      "\n"
     ]
    }
   ],
   "source": [
    "articles_per_year_per_author = df_article.\\\n",
    "    groupBy(col(\"author.name\").alias(\"author\"),col(\"year\").alias(\"year\")).\\\n",
    "    count()\n",
    "articles_per_year_per_author.\\\n",
    "    groupBy(col(\"year\")).\\\n",
    "    agg(first(\"author\").alias(\"author\"),max(\"count\").alias(\"count\")).\\\n",
    "    filter(col(\"year\")>1980).\\\n",
    "    sort(col(\"year\").desc()).\\\n",
    "    show()\n"
   ]
  },
  {
   "cell_type": "markdown",
   "metadata": {},
   "source": [
    "<h1>4. Update row</h1>"
   ]
  },
  {
   "cell_type": "code",
   "execution_count": 69,
   "metadata": {},
   "outputs": [
    {
     "name": "stdout",
     "output_type": "stream",
     "text": [
      "+---------+\n",
      "|citations|\n",
      "+---------+\n",
      "|       81|\n",
      "|       34|\n",
      "|       13|\n",
      "|        5|\n",
      "|       88|\n",
      "|      123|\n",
      "|       72|\n",
      "|        0|\n",
      "|        4|\n",
      "|        9|\n",
      "|      128|\n",
      "|       12|\n",
      "|       27|\n",
      "|      114|\n",
      "|       18|\n",
      "|        8|\n",
      "|      119|\n",
      "|        8|\n",
      "|       85|\n",
      "|       36|\n",
      "+---------+\n",
      "only showing top 20 rows\n",
      "\n"
     ]
    }
   ],
   "source": [
    "#Update null \"citations\" fields with the length of the \"cite\" array field\n",
    "from pyspark.sql.functions import when,size\n",
    "df_article.withColumn(\"citations\", when(df_article.citations.isNull(),size(col(\"cite\"))).\\\n",
    "    otherwise(df_article.citations)).\\\n",
    "    select(\"citations\").show()\n"
   ]
  }
 ],
 "metadata": {
  "kernelspec": {
   "display_name": "Python 3.10.8 ('spark')",
   "language": "python",
   "name": "python3"
  },
  "language_info": {
   "codemirror_mode": {
    "name": "ipython",
    "version": 3
   },
   "file_extension": ".py",
   "mimetype": "text/x-python",
   "name": "python",
   "nbconvert_exporter": "python",
   "pygments_lexer": "ipython3",
   "version": "3.10.8"
  },
  "orig_nbformat": 4,
  "vscode": {
   "interpreter": {
    "hash": "42407214c6bc879b82f0efdb2e75cf56dbed9e9d19aba2a87e284a65e4a9b78f"
   }
  }
 },
 "nbformat": 4,
 "nbformat_minor": 2
}
