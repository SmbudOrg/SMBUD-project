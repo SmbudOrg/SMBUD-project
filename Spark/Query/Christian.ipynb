{
 "cells": [
  {
   "cell_type": "code",
   "execution_count": 49,
   "metadata": {},
   "outputs": [],
   "source": [
    "from pyspark.sql import SparkSession\n",
    "from pyspark.sql.types import StructType, StructField, StringType, FloatType, ArrayType\n",
    "from pyspark.sql.functions import col                       # Filtering using the col() function\n",
    "from pyspark.sql.functions import array_contains            # Filtering on array columns\n",
    "from pyspark.sql.functions import explode                   # Explode Arrays in Individual Rows\n",
    "from pyspark.sql.functions import sum, avg, count, max      # Multiple Aggregations\n",
    "from pyspark.sql.functions import first, last\t\n",
    "\n",
    "# Create an entry point to the PySpark Application\n",
    "spark = SparkSession.builder \\\n",
    "      .master(\"local\") \\\n",
    "      .appName(\"MyFirstSparkApplication\") \\\n",
    "      .getOrCreate()"
   ]
  },
  {
   "cell_type": "code",
   "execution_count": 50,
   "metadata": {},
   "outputs": [
    {
     "name": "stdout",
     "output_type": "stream",
     "text": [
      "root\n",
      " |-- author: array (nullable = true)\n",
      " |    |-- element: struct (containsNull = true)\n",
      " |    |    |-- name: string (nullable = true)\n",
      " |    |    |-- orcid: string (nullable = true)\n",
      " |-- citations: long (nullable = true)\n",
      " |-- cite: array (nullable = true)\n",
      " |    |-- element: string (containsNull = true)\n",
      " |-- ee: array (nullable = true)\n",
      " |    |-- element: string (containsNull = true)\n",
      " |-- journal: string (nullable = true)\n",
      " |-- key: string (nullable = true)\n",
      " |-- keyword: array (nullable = true)\n",
      " |    |-- element: string (containsNull = true)\n",
      " |-- note: array (nullable = true)\n",
      " |    |-- element: string (containsNull = true)\n",
      " |-- pages: long (nullable = true)\n",
      " |-- publisher: string (nullable = true)\n",
      " |-- title: string (nullable = true)\n",
      " |-- volume: long (nullable = true)\n",
      " |-- year: long (nullable = true)\n",
      "\n"
     ]
    }
   ],
   "source": [
    "# Read multiline json file  ARTICLE\n",
    "df_article = spark.read.option(\"multiline\",\"true\") \\\n",
    "      .json(\"Datasets (json)/article-db.json\")\n",
    "\n",
    "df_article.printSchema()"
   ]
  },
  {
   "cell_type": "code",
   "execution_count": 52,
   "metadata": {},
   "outputs": [
    {
     "name": "stdout",
     "output_type": "stream",
     "text": [
      "root\n",
      " |-- author: array (nullable = true)\n",
      " |    |-- element: struct (containsNull = true)\n",
      " |    |    |-- name: string (nullable = true)\n",
      " |    |    |-- orcid: string (nullable = true)\n",
      " |-- key: string (nullable = true)\n",
      " |-- university: array (nullable = true)\n",
      " |    |-- element: string (containsNull = true)\n",
      " |-- url: array (nullable = true)\n",
      " |    |-- element: string (containsNull = true)\n",
      "\n",
      "+--------------------+--------------------+--------------------+--------------------+\n",
      "|              author|                 key|          university|                 url|\n",
      "+--------------------+--------------------+--------------------+--------------------+\n",
      "|[{Alejandro Rodri...|  homepages/189/9749|[Western Norway U...|[https://orcid.or...|\n",
      "|[{Kikuo Fujimura,...|homepages/f/Kikuo...|[Ohio State Unive...|[http://www.cse.o...|\n",
      "|[{Pierfrancesco F...|homepages/f/Pierf...|                null|[http://garga.iet...|\n",
      "|[{Farshad Fotouhi...|homepages/f/Farsh...|[Wayne State Univ...|[http://www.cs.wa...|\n",
      "|[{Ada Wai-Chee Fu...|homepages/f/AdaWa...|                null|[http://www.cs.cu...|\n",
      "|[{Robert B. Franc...|homepages/f/RBFrance|[Colorado State U...|[http://www.cs.co...|\n",
      "|[{Jan Flokstra, J...|homepages/f/JanFl...|[University of Tw...|[http://www.cs.ut...|\n",
      "|[{Maria Grazia Fu...|homepages/f/Maria...|[Polytechnic Univ...|[http://fugini.fa...|\n",
      "|[{Dieter W. Felln...|homepages/f/DWFel...|[Fraunhofer Insti...|[http://www.igd.f...|\n",
      "|[{Francois Fages,...|homepages/f/Franc...|     [INRIA, France]|[http://contraint...|\n",
      "|[{Andrew Fetterer...|homepages/f/Andre...|                null|[http://www.fette...|\n",
      "|[{Piero Fraternal...|homepages/f/Piero...|[Polytechnic Univ...|[http://www.elet....|\n",
      "|[{Jerome Feret, J...|homepages/f/Jerom...| [ENS Paris, France]|[http://www.di.en...|\n",
      "|[{Alvaro A. A. Fe...|homepages/f/AAAFe...|[University of Ma...|[http://www.cs.ma...|\n",
      "|[{Simone Fischer-...|homepages/f/Simon...|[Karlstad Univers...|[http://www.cs.ka...|\n",
      "|[{Pedro Furtado 0...|homepages/f/Pedro...|[University of Co...|[http://eden.dei....|\n",
      "|[{W. Kent Fuchs, ...|homepages/f/WKent...|[Purdue Universit...|[http://composer....|\n",
      "|[{Ronald Fagin, R...|homepages/f/Ronal...|[IBM Almaden Rese...|[https://research...|\n",
      "|[{Elena Ferrari, ...|homepages/f/Elena...|[University of In...|[http://www.dicom...|\n",
      "|[{Usama M. Fayyad...|homepages/f/Usama...|                null|[http://www-aig.j...|\n",
      "+--------------------+--------------------+--------------------+--------------------+\n",
      "only showing top 20 rows\n",
      "\n"
     ]
    }
   ],
   "source": [
    "# Read multiline json file  WWW\n",
    "df_www = spark.read.option(\"multiline\",\"true\") \\\n",
    "    .json(\"Datasets (json)/www-db.json\")  \\\n",
    "    .withColumnRenamed(\"note\", \"university\")\n",
    "\n",
    "df_www.printSchema()\n",
    "df_www.show()"
   ]
  },
  {
   "cell_type": "markdown",
   "metadata": {},
   "source": [
    "### 1. Most cited AUTHORS in a given field\n",
    "The following query can be used to find the authors, and their website (if existing), who\n",
    "wrote about a given field (e.g. \"data mining\") ordering them by the sum of citations they\n",
    "received for thoose publications."
   ]
  },
  {
   "cell_type": "code",
   "execution_count": 69,
   "metadata": {},
   "outputs": [
    {
     "name": "stdout",
     "output_type": "stream",
     "text": [
      "root\n",
      " |-- author: struct (nullable = true)\n",
      " |    |-- name: string (nullable = true)\n",
      " |    |-- orcid: string (nullable = true)\n",
      " |-- website: array (nullable = true)\n",
      " |    |-- element: string (containsNull = true)\n",
      " |-- Sum of Citations: long (nullable = true)\n",
      " |-- Average Citations: double (nullable = true)\n",
      " |-- Number of Paper: long (nullable = false)\n",
      " |-- Max Citations: long (nullable = true)\n",
      "\n",
      "+--------------------+--------------------+----------------+-----------------+---------------+-------------+\n",
      "|              author|             website|Sum of Citations|Average Citations|Number of Paper|Max Citations|\n",
      "+--------------------+--------------------+----------------+-----------------+---------------+-------------+\n",
      "|{Clement T. Yu, C...|[http://www.cs.ui...|             231|             77.0|              3|          138|\n",
      "|{Kenneth C. Sevci...|[http://www.cs.ut...|             229|            114.5|              2|          126|\n",
      "|    {K. Lam, K. Lam}|                null|             207|            103.5|              2|          138|\n",
      "|{Michael Ley, Mic...|[http://dblp.org/...|             171|             85.5|              2|          115|\n",
      "|{Robert L. Griffi...|                null|             148|            148.0|              1|          148|\n",
      "+--------------------+--------------------+----------------+-----------------+---------------+-------------+\n",
      "\n"
     ]
    }
   ],
   "source": [
    "exploded_df_article = df_article.filter(array_contains(col(\"keyword\"), \"data mining\"))  \\\n",
    "    .select(df_article.key, explode(df_article.author), df_article.keyword, df_article.citations  )    \\\n",
    "    .withColumnRenamed(\"col\", \"author\")\n",
    "# exploded_df_article.printSchema()\n",
    "# exploded_df_article.show()\n",
    "\n",
    "exploded_df_www = df_www  \\\n",
    "    .select(df_www.key, explode(df_www.author), df_www.url)    \\\n",
    "    .withColumnRenamed(\"col\", \"author\")\n",
    "# exploded_df_www.printSchema()\n",
    "# exploded_df_www.show()\n",
    "\n",
    "df_top_author = exploded_df_article.groupBy(\"author\").agg(\n",
    "    sum(\"citations\").alias(\"Sum of Citations\"), \n",
    "    avg(\"citations\").alias(\"Average Citations\"), \n",
    "    count(\"citations\").alias(\"Number of Paper\"),\n",
    "    max(\"citations\").alias(\"Max Citations\"))    \\\n",
    "    .sort(col(\"Sum of Citations\").desc()).limit(5)\n",
    "# df_top_author.printSchema()\n",
    "# df_top_author.show()\n",
    "\n",
    "df_website = df_www.select(explode(df_www.author), df_www.url)    \\\n",
    "    .withColumnRenamed(\"col\", \"author_w\")   \\\n",
    "    .withColumnRenamed(\"url\", \"website\")\n",
    "# df_website.printSchema()\n",
    "# df_website.show()\n",
    "\n",
    "\n",
    "result = df_top_author.join(df_website, df_top_author.author == df_website.author_w, \"left\")  \\\n",
    "    .select(col(\"author\"), col(\"website\"), col(\"Sum of Citations\"), col(\"Average Citations\"), col(\"Number of Paper\"), col(\"Max Citations\")) \\\n",
    "    \n",
    "\n",
    "result.printSchema()    \n",
    "result.show()"
   ]
  }
 ],
 "metadata": {
  "kernelspec": {
   "display_name": "Python 3.10.2 64-bit",
   "language": "python",
   "name": "python3"
  },
  "language_info": {
   "codemirror_mode": {
    "name": "ipython",
    "version": 3
   },
   "file_extension": ".py",
   "mimetype": "text/x-python",
   "name": "python",
   "nbconvert_exporter": "python",
   "pygments_lexer": "ipython3",
   "version": "3.10.2"
  },
  "orig_nbformat": 4,
  "vscode": {
   "interpreter": {
    "hash": "edf259275ad4a72d4dd5b452264ad5fb2b635233dff2a31edc6ebc740e55e21b"
   }
  }
 },
 "nbformat": 4,
 "nbformat_minor": 2
}
