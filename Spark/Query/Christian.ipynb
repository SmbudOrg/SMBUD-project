{
 "cells": [
  {
   "cell_type": "code",
   "execution_count": 1,
   "metadata": {},
   "outputs": [],
   "source": [
    "from pyspark.sql import SparkSession\n",
    "from pyspark.sql.types import StructType, StructField, StringType, FloatType, ArrayType\n",
    "from pyspark.sql.functions import col                       # Filtering using the col() function\n",
    "from pyspark.sql.functions import array_contains            # Filtering on array columns\n",
    "from pyspark.sql.functions import explode                   # Explode Arrays in Individual Rows\n",
    "from pyspark.sql.functions import sum, avg, count, max      # Multiple Aggregations\n",
    "from pyspark.sql.functions import first, last\t\n",
    "from pyspark.sql.functions import array_union               # Union of 2 array without duplicates\n",
    "from pyspark.sql.functions import lit, array\n",
    "\n",
    "\n",
    "# Create an entry point to the PySpark Application\n",
    "spark = SparkSession.builder \\\n",
    "      .master(\"local\") \\\n",
    "      .appName(\"MyFirstSparkApplication\") \\\n",
    "      .getOrCreate()"
   ]
  },
  {
   "cell_type": "code",
   "execution_count": 2,
   "metadata": {},
   "outputs": [
    {
     "ename": "AnalysisException",
     "evalue": "Path does not exist: file:/c:/Users/chris/OneDrive/Documenti/GitHub/SMBUD-project-1/Spark/Query/Datasets (json)/book-db.json",
     "output_type": "error",
     "traceback": [
      "\u001b[1;31m---------------------------------------------------------------------------\u001b[0m",
      "\u001b[1;31mAnalysisException\u001b[0m                         Traceback (most recent call last)",
      "\u001b[1;32mc:\\Users\\chris\\OneDrive\\Documenti\\GitHub\\SMBUD-project-1\\Spark\\Query\\Christian.ipynb Cella 2\u001b[0m in \u001b[0;36m<cell line: 3>\u001b[1;34m()\u001b[0m\n\u001b[0;32m      <a href='vscode-notebook-cell:/c%3A/Users/chris/OneDrive/Documenti/GitHub/SMBUD-project-1/Spark/Query/Christian.ipynb#W1sZmlsZQ%3D%3D?line=0'>1</a>\u001b[0m \u001b[39m#IMPORT\u001b[39;00m\n\u001b[0;32m      <a href='vscode-notebook-cell:/c%3A/Users/chris/OneDrive/Documenti/GitHub/SMBUD-project-1/Spark/Query/Christian.ipynb#W1sZmlsZQ%3D%3D?line=2'>3</a>\u001b[0m df_book \u001b[39m=\u001b[39m spark\u001b[39m.\u001b[39;49mread\u001b[39m.\u001b[39;49moption(\u001b[39m\"\u001b[39;49m\u001b[39mmultiline\u001b[39;49m\u001b[39m\"\u001b[39;49m,\u001b[39m\"\u001b[39;49m\u001b[39mtrue\u001b[39;49m\u001b[39m\"\u001b[39;49m)  \\\n\u001b[1;32m----> <a href='vscode-notebook-cell:/c%3A/Users/chris/OneDrive/Documenti/GitHub/SMBUD-project-1/Spark/Query/Christian.ipynb#W1sZmlsZQ%3D%3D?line=3'>4</a>\u001b[0m       \u001b[39m.\u001b[39;49mjson(\u001b[39m\"\u001b[39;49m\u001b[39mDatasets (json)/book-db.json\u001b[39;49m\u001b[39m\"\u001b[39;49m)\n\u001b[0;32m      <a href='vscode-notebook-cell:/c%3A/Users/chris/OneDrive/Documenti/GitHub/SMBUD-project-1/Spark/Query/Christian.ipynb#W1sZmlsZQ%3D%3D?line=5'>6</a>\u001b[0m df_article \u001b[39m=\u001b[39m spark\u001b[39m.\u001b[39mread\u001b[39m.\u001b[39moption(\u001b[39m\"\u001b[39m\u001b[39mmultiline\u001b[39m\u001b[39m\"\u001b[39m,\u001b[39m\"\u001b[39m\u001b[39mtrue\u001b[39m\u001b[39m\"\u001b[39m)  \\\n\u001b[0;32m      <a href='vscode-notebook-cell:/c%3A/Users/chris/OneDrive/Documenti/GitHub/SMBUD-project-1/Spark/Query/Christian.ipynb#W1sZmlsZQ%3D%3D?line=6'>7</a>\u001b[0m       \u001b[39m.\u001b[39mjson(\u001b[39m\"\u001b[39m\u001b[39mDatasets (json)/article-db.json\u001b[39m\u001b[39m\"\u001b[39m)\n\u001b[0;32m      <a href='vscode-notebook-cell:/c%3A/Users/chris/OneDrive/Documenti/GitHub/SMBUD-project-1/Spark/Query/Christian.ipynb#W1sZmlsZQ%3D%3D?line=8'>9</a>\u001b[0m df_incollection \u001b[39m=\u001b[39m spark\u001b[39m.\u001b[39mread\u001b[39m.\u001b[39moption(\u001b[39m\"\u001b[39m\u001b[39mmultiline\u001b[39m\u001b[39m\"\u001b[39m,\u001b[39m\"\u001b[39m\u001b[39mtrue\u001b[39m\u001b[39m\"\u001b[39m)  \\\n\u001b[0;32m     <a href='vscode-notebook-cell:/c%3A/Users/chris/OneDrive/Documenti/GitHub/SMBUD-project-1/Spark/Query/Christian.ipynb#W1sZmlsZQ%3D%3D?line=9'>10</a>\u001b[0m       \u001b[39m.\u001b[39mjson(\u001b[39m\"\u001b[39m\u001b[39mDatasets (json)/incollection-db.json\u001b[39m\u001b[39m\"\u001b[39m)\n",
      "File \u001b[1;32mc:\\Users\\chris\\AppData\\Local\\Programs\\Python\\Python310\\lib\\site-packages\\pyspark\\sql\\readwriter.py:284\u001b[0m, in \u001b[0;36mDataFrameReader.json\u001b[1;34m(self, path, schema, primitivesAsString, prefersDecimal, allowComments, allowUnquotedFieldNames, allowSingleQuotes, allowNumericLeadingZero, allowBackslashEscapingAnyCharacter, mode, columnNameOfCorruptRecord, dateFormat, timestampFormat, multiLine, allowUnquotedControlChars, lineSep, samplingRatio, dropFieldIfAllNull, encoding, locale, pathGlobFilter, recursiveFileLookup, modifiedBefore, modifiedAfter, allowNonNumericNumbers)\u001b[0m\n\u001b[0;32m    282\u001b[0m \u001b[39mif\u001b[39;00m \u001b[39mtype\u001b[39m(path) \u001b[39m==\u001b[39m \u001b[39mlist\u001b[39m:\n\u001b[0;32m    283\u001b[0m     \u001b[39massert\u001b[39;00m \u001b[39mself\u001b[39m\u001b[39m.\u001b[39m_spark\u001b[39m.\u001b[39m_sc\u001b[39m.\u001b[39m_jvm \u001b[39mis\u001b[39;00m \u001b[39mnot\u001b[39;00m \u001b[39mNone\u001b[39;00m\n\u001b[1;32m--> 284\u001b[0m     \u001b[39mreturn\u001b[39;00m \u001b[39mself\u001b[39m\u001b[39m.\u001b[39m_df(\u001b[39mself\u001b[39;49m\u001b[39m.\u001b[39;49m_jreader\u001b[39m.\u001b[39;49mjson(\u001b[39mself\u001b[39;49m\u001b[39m.\u001b[39;49m_spark\u001b[39m.\u001b[39;49m_sc\u001b[39m.\u001b[39;49m_jvm\u001b[39m.\u001b[39;49mPythonUtils\u001b[39m.\u001b[39;49mtoSeq(path)))\n\u001b[0;32m    285\u001b[0m \u001b[39melif\u001b[39;00m \u001b[39misinstance\u001b[39m(path, RDD):\n\u001b[0;32m    287\u001b[0m     \u001b[39mdef\u001b[39;00m \u001b[39mfunc\u001b[39m(iterator: Iterable) \u001b[39m-\u001b[39m\u001b[39m>\u001b[39m Iterable:\n",
      "File \u001b[1;32mc:\\Users\\chris\\AppData\\Local\\Programs\\Python\\Python310\\lib\\site-packages\\py4j\\java_gateway.py:1321\u001b[0m, in \u001b[0;36mJavaMember.__call__\u001b[1;34m(self, *args)\u001b[0m\n\u001b[0;32m   1315\u001b[0m command \u001b[39m=\u001b[39m proto\u001b[39m.\u001b[39mCALL_COMMAND_NAME \u001b[39m+\u001b[39m\\\n\u001b[0;32m   1316\u001b[0m     \u001b[39mself\u001b[39m\u001b[39m.\u001b[39mcommand_header \u001b[39m+\u001b[39m\\\n\u001b[0;32m   1317\u001b[0m     args_command \u001b[39m+\u001b[39m\\\n\u001b[0;32m   1318\u001b[0m     proto\u001b[39m.\u001b[39mEND_COMMAND_PART\n\u001b[0;32m   1320\u001b[0m answer \u001b[39m=\u001b[39m \u001b[39mself\u001b[39m\u001b[39m.\u001b[39mgateway_client\u001b[39m.\u001b[39msend_command(command)\n\u001b[1;32m-> 1321\u001b[0m return_value \u001b[39m=\u001b[39m get_return_value(\n\u001b[0;32m   1322\u001b[0m     answer, \u001b[39mself\u001b[39;49m\u001b[39m.\u001b[39;49mgateway_client, \u001b[39mself\u001b[39;49m\u001b[39m.\u001b[39;49mtarget_id, \u001b[39mself\u001b[39;49m\u001b[39m.\u001b[39;49mname)\n\u001b[0;32m   1324\u001b[0m \u001b[39mfor\u001b[39;00m temp_arg \u001b[39min\u001b[39;00m temp_args:\n\u001b[0;32m   1325\u001b[0m     temp_arg\u001b[39m.\u001b[39m_detach()\n",
      "File \u001b[1;32mc:\\Users\\chris\\AppData\\Local\\Programs\\Python\\Python310\\lib\\site-packages\\pyspark\\sql\\utils.py:196\u001b[0m, in \u001b[0;36mcapture_sql_exception.<locals>.deco\u001b[1;34m(*a, **kw)\u001b[0m\n\u001b[0;32m    192\u001b[0m converted \u001b[39m=\u001b[39m convert_exception(e\u001b[39m.\u001b[39mjava_exception)\n\u001b[0;32m    193\u001b[0m \u001b[39mif\u001b[39;00m \u001b[39mnot\u001b[39;00m \u001b[39misinstance\u001b[39m(converted, UnknownException):\n\u001b[0;32m    194\u001b[0m     \u001b[39m# Hide where the exception came from that shows a non-Pythonic\u001b[39;00m\n\u001b[0;32m    195\u001b[0m     \u001b[39m# JVM exception message.\u001b[39;00m\n\u001b[1;32m--> 196\u001b[0m     \u001b[39mraise\u001b[39;00m converted \u001b[39mfrom\u001b[39;00m \u001b[39mNone\u001b[39m\n\u001b[0;32m    197\u001b[0m \u001b[39melse\u001b[39;00m:\n\u001b[0;32m    198\u001b[0m     \u001b[39mraise\u001b[39;00m\n",
      "\u001b[1;31mAnalysisException\u001b[0m: Path does not exist: file:/c:/Users/chris/OneDrive/Documenti/GitHub/SMBUD-project-1/Spark/Query/Datasets (json)/book-db.json"
     ]
    }
   ],
   "source": [
    "#IMPORT\n",
    "\n",
    "df_book = spark.read.option(\"multiline\",\"true\")  \\\n",
    "      .json(\"Datasets (json)/book-db.json\")\n",
    "\n",
    "df_article = spark.read.option(\"multiline\",\"true\")  \\\n",
    "      .json(\"Datasets (json)/article-db.json\")\n",
    "\n",
    "df_incollection = spark.read.option(\"multiline\",\"true\")  \\\n",
    "      .json(\"Datasets (json)/incollection-db.json\")\n",
    "\n",
    "df_www = spark.read.option(\"multiline\",\"true\")  \\\n",
    "      .json(\"Datasets (json)/www-db.json\")"
   ]
  },
  {
   "cell_type": "markdown",
   "metadata": {},
   "source": [
    "### 1. Most cited AUTHORS in a given field\n",
    "The following query can be used to find the authors, and their website (if existing), who\n",
    "wrote about a given field (e.g. \"data mining\") ordering them by the sum of citations they\n",
    "received for thoose publications."
   ]
  },
  {
   "cell_type": "code",
   "execution_count": 69,
   "metadata": {},
   "outputs": [
    {
     "name": "stdout",
     "output_type": "stream",
     "text": [
      "root\n",
      " |-- author: struct (nullable = true)\n",
      " |    |-- name: string (nullable = true)\n",
      " |    |-- orcid: string (nullable = true)\n",
      " |-- website: array (nullable = true)\n",
      " |    |-- element: string (containsNull = true)\n",
      " |-- Sum of Citations: long (nullable = true)\n",
      " |-- Average Citations: double (nullable = true)\n",
      " |-- Number of Paper: long (nullable = false)\n",
      " |-- Max Citations: long (nullable = true)\n",
      "\n",
      "+--------------------+--------------------+----------------+-----------------+---------------+-------------+\n",
      "|              author|             website|Sum of Citations|Average Citations|Number of Paper|Max Citations|\n",
      "+--------------------+--------------------+----------------+-----------------+---------------+-------------+\n",
      "|{Clement T. Yu, C...|[http://www.cs.ui...|             231|             77.0|              3|          138|\n",
      "|{Kenneth C. Sevci...|[http://www.cs.ut...|             229|            114.5|              2|          126|\n",
      "|    {K. Lam, K. Lam}|                null|             207|            103.5|              2|          138|\n",
      "|{Michael Ley, Mic...|[http://dblp.org/...|             171|             85.5|              2|          115|\n",
      "|{Robert L. Griffi...|                null|             148|            148.0|              1|          148|\n",
      "+--------------------+--------------------+----------------+-----------------+---------------+-------------+\n",
      "\n"
     ]
    }
   ],
   "source": [
    "exploded_df_article = df_article.filter(array_contains(col(\"keyword\"), \"data mining\"))  \\\n",
    "    .select(df_article.key, explode(df_article.author), df_article.keyword, df_article.citations  )    \\\n",
    "    .withColumnRenamed(\"col\", \"author\")\n",
    "# exploded_df_article.printSchema()\n",
    "# exploded_df_article.show()\n",
    "\n",
    "exploded_df_www = df_www  \\\n",
    "    .select(df_www.key, explode(df_www.author), df_www.url)    \\\n",
    "    .withColumnRenamed(\"col\", \"author\")\n",
    "# exploded_df_www.printSchema()\n",
    "# exploded_df_www.show()\n",
    "\n",
    "df_top_author = exploded_df_article.groupBy(\"author\").agg(\n",
    "    sum(\"citations\").alias(\"Sum of Citations\"), \n",
    "    avg(\"citations\").alias(\"Average Citations\"), \n",
    "    count(\"citations\").alias(\"Number of Paper\"),\n",
    "    max(\"citations\").alias(\"Max Citations\"))    \\\n",
    "    .sort(col(\"Sum of Citations\").desc()).limit(5)\n",
    "# df_top_author.printSchema()\n",
    "# df_top_author.show()\n",
    "\n",
    "df_website = df_www.select(explode(df_www.author), df_www.url)    \\\n",
    "    .withColumnRenamed(\"col\", \"author_w\")   \\\n",
    "    .withColumnRenamed(\"url\", \"website\")\n",
    "# df_website.printSchema()\n",
    "# df_website.show()\n",
    "\n",
    "\n",
    "result = df_top_author.join(df_website, df_top_author.author == df_website.author_w, \"left\")  \\\n",
    "    .select(col(\"author\"), col(\"website\"), col(\"Sum of Citations\"), col(\"Average Citations\"), col(\"Number of Paper\"), col(\"Max Citations\")) \\\n",
    "    \n",
    "\n",
    "result.printSchema()    \n",
    "result.show()"
   ]
  },
  {
   "cell_type": "markdown",
   "metadata": {},
   "source": [
    "### 2. Add a KEYWORD to a publications\n",
    "here we can see a specific\n",
    "example with the binding of the keyword \"machine learning\" to books in the \"Intelligent\n",
    "Systems Reference Library\" series from volume 85 to volume 100"
   ]
  },
  {
   "cell_type": "code",
   "execution_count": null,
   "metadata": {},
   "outputs": [],
   "source": [
    "result = df_book    \\\n",
    "    .filter(df_book.series.title == \"Intelligent Systems Reference Library\")\\\n",
    "    .filter(df_book.volume >= 85)\\\n",
    "    .filter(df_book.volume <= 100)\\\n",
    "    .select(\"key\",\"keyword\",\"volume\")\\\n",
    "    .withColumn(\"add\", array(lit(\"machine learning\")))\n",
    "\n",
    "result.show(truncate=False)\n",
    "\n",
    "result\\\n",
    "    .withColumn(\"keyword\", array_union(result.keyword, result.add))\\\n",
    "    .drop(\"add\")\\\n",
    "    .show(truncate=False)\n"
   ]
  }
 ],
 "metadata": {
  "kernelspec": {
   "display_name": "Python 3.10.2 64-bit",
   "language": "python",
   "name": "python3"
  },
  "language_info": {
   "codemirror_mode": {
    "name": "ipython",
    "version": 3
   },
   "file_extension": ".py",
   "mimetype": "text/x-python",
   "name": "python",
   "nbconvert_exporter": "python",
   "pygments_lexer": "ipython3",
   "version": "3.10.2"
  },
  "orig_nbformat": 4,
  "vscode": {
   "interpreter": {
    "hash": "edf259275ad4a72d4dd5b452264ad5fb2b635233dff2a31edc6ebc740e55e21b"
   }
  }
 },
 "nbformat": 4,
 "nbformat_minor": 2
}
