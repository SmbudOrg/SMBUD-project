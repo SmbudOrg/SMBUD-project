{
 "cells": [
  {
   "cell_type": "code",
   "execution_count": 2,
   "metadata": {},
   "outputs": [],
   "source": [
    "from pyspark.sql import SparkSession\n",
    "from pyspark.sql.types import StructType, StructField, StringType, FloatType, ArrayType\n",
    "from pyspark.sql.functions import col                       # Filtering using the col() function\n",
    "from pyspark.sql.functions import array_contains            # Filtering on array columns\n",
    "from pyspark.sql.functions import explode                   # Explode Arrays in Individual Rows\n",
    "from pyspark.sql.functions import sum, avg, count, max      # Multiple Aggregations\n",
    "\n",
    "# Create an entry point to the PySpark Application\n",
    "spark = SparkSession.builder \\\n",
    "      .master(\"local\") \\\n",
    "      .appName(\"MyFirstSparkApplication\") \\\n",
    "      .getOrCreate()"
   ]
  },
  {
   "cell_type": "code",
   "execution_count": 3,
   "metadata": {},
   "outputs": [
    {
     "name": "stdout",
     "output_type": "stream",
     "text": [
      "root\n",
      " |-- author: array (nullable = true)\n",
      " |    |-- element: struct (containsNull = true)\n",
      " |    |    |-- name: string (nullable = true)\n",
      " |    |    |-- orcid: string (nullable = true)\n",
      " |-- citations: long (nullable = true)\n",
      " |-- cite: array (nullable = true)\n",
      " |    |-- element: string (containsNull = true)\n",
      " |-- ee: array (nullable = true)\n",
      " |    |-- element: string (containsNull = true)\n",
      " |-- journal: string (nullable = true)\n",
      " |-- key: string (nullable = true)\n",
      " |-- keyword: array (nullable = true)\n",
      " |    |-- element: string (containsNull = true)\n",
      " |-- note: array (nullable = true)\n",
      " |    |-- element: string (containsNull = true)\n",
      " |-- pages: long (nullable = true)\n",
      " |-- publisher: string (nullable = true)\n",
      " |-- title: string (nullable = true)\n",
      " |-- volume: long (nullable = true)\n",
      " |-- year: long (nullable = true)\n",
      "\n"
     ]
    }
   ],
   "source": [
    "# Read multiline json file  ARTICLE\n",
    "df_article = spark.read.option(\"multiline\",\"true\") \\\n",
    "      .json(\"Datasets (json)/article-db.json\")\n",
    "\n",
    "df_article.printSchema()"
   ]
  },
  {
   "cell_type": "markdown",
   "metadata": {},
   "source": [
    "1. The following query can be used to find the authors who wrote about a given field (e.g. \"data mining\") ordering them by the sum of citations they received for thoose publications"
   ]
  },
  {
   "cell_type": "code",
   "execution_count": 4,
   "metadata": {},
   "outputs": [
    {
     "name": "stdout",
     "output_type": "stream",
     "text": [
      "root\n",
      " |-- key: string (nullable = true)\n",
      " |-- author: struct (nullable = true)\n",
      " |    |-- name: string (nullable = true)\n",
      " |    |-- orcid: string (nullable = true)\n",
      " |-- keyword: array (nullable = true)\n",
      " |    |-- element: string (containsNull = true)\n",
      " |-- citations: long (nullable = true)\n",
      "\n",
      "+----------------------------------------------+----------------+-----------------+---------------+-------------+\n",
      "|author                                        |Sum of Citations|Average Citations|Number of Paper|Max Citations|\n",
      "+----------------------------------------------+----------------+-----------------+---------------+-------------+\n",
      "|{Clement T. Yu, Clement T. Yu}                |231             |77.0             |3              |138          |\n",
      "|{Kenneth C. Sevcik, Kenneth C. Sevcik}        |229             |114.5            |2              |126          |\n",
      "|{K. Lam, K. Lam}                              |207             |103.5            |2              |138          |\n",
      "|{Michael Ley, Michael Ley}                    |171             |85.5             |2              |115          |\n",
      "|{Robert L. Griffith, Robert L. Griffith}      |148             |148.0            |1              |148          |\n",
      "|{Michael Tarnowski, Michael Tarnowski}        |147             |147.0            |1              |147          |\n",
      "|{Jan Flokstra, Jan Flokstra}                  |140             |140.0            |1              |140          |\n",
      "|{Carel A. van den Berg, Carel A. van den Berg}|140             |140.0            |1              |140          |\n",
      "|{Peter M. G. Apers, Peter M. G. Apers}        |140             |140.0            |1              |140          |\n",
      "|{Annita N. Wilschut, Annita N. Wilschut}      |140             |140.0            |1              |140          |\n",
      "|{Martin L. Kersten, Martin L. Kersten}        |140             |140.0            |1              |140          |\n",
      "|{Paul W. P. J. Grefen, Paul W. P. J. Grefen}  |140             |140.0            |1              |140          |\n",
      "|{M. K. Siu, M. K. Siu}                        |138             |138.0            |1              |138          |\n",
      "|{Gultekin Ozsoyoglu, Gultekin Ozsoyoglu}      |138             |69.0             |2              |76           |\n",
      "|{Cheing-Mei Suen, Cheing-Mei Suen}            |138             |138.0            |1              |138          |\n",
      "|{Surajit Chaudhuri, Surajit Chaudhuri}        |136             |68.0             |2              |72           |\n",
      "|{H. F. Lin, H. F. Lin}                        |133             |133.0            |1              |133          |\n",
      "|{Chin-Chen Chang 0001, Chin-Chen Chang 0001}  |133             |133.0            |1              |133          |\n",
      "|{Richard C. T. Lee, Richard C. T. Lee}        |133             |133.0            |1              |133          |\n",
      "|{C. Y. Chen, C. Y. Chen}                      |133             |133.0            |1              |133          |\n",
      "+----------------------------------------------+----------------+-----------------+---------------+-------------+\n",
      "only showing top 20 rows\n",
      "\n"
     ]
    }
   ],
   "source": [
    "exploded_df_article = df_article.filter(array_contains(col(\"keyword\"), \"data mining\"))  \\\n",
    "    .select(df_article.key, explode(df_article.author), df_article.keyword, df_article.citations  )    \\\n",
    "    .withColumnRenamed(\"col\", \"author\")\n",
    "exploded_df_article.printSchema()\n",
    "# exploded_df_article.show()\n",
    "\n",
    "exploded_df_article.groupBy(\"author\").agg(\n",
    "    sum(\"citations\").alias(\"Sum of Citations\"), \n",
    "    avg(\"citations\").alias(\"Average Citations\"), \n",
    "    count(\"citations\").alias(\"Number of Paper\"),\n",
    "    max(\"citations\").alias(\"Max Citations\"))    \\\n",
    "    .sort(col(\"Sum of Citations\").desc()).show(truncate = False)\n"
   ]
  },
  {
   "cell_type": "code",
   "execution_count": 9,
   "metadata": {},
   "outputs": [
    {
     "name": "stdout",
     "output_type": "stream",
     "text": [
      "root\n",
      " |-- author: array (nullable = true)\n",
      " |    |-- element: struct (containsNull = true)\n",
      " |    |    |-- name: string (nullable = true)\n",
      " |    |    |-- orcid: string (nullable = true)\n",
      " |-- key: string (nullable = true)\n",
      " |-- university: array (nullable = true)\n",
      " |    |-- element: string (containsNull = true)\n",
      " |-- url: array (nullable = true)\n",
      " |    |-- element: string (containsNull = true)\n",
      "\n"
     ]
    }
   ],
   "source": [
    "# Read multiline json file  WWW\n",
    "df_article = spark.read.option(\"multiline\",\"true\") \\\n",
    "    .json(\"Datasets (json)/www-db.json\")  \\\n",
    "    .withColumnRenamed(\"note\", \"university\")\n",
    "\n",
    "df_article.printSchema()"
   ]
  }
 ],
 "metadata": {
  "kernelspec": {
   "display_name": "Python 3.10.2 64-bit",
   "language": "python",
   "name": "python3"
  },
  "language_info": {
   "codemirror_mode": {
    "name": "ipython",
    "version": 3
   },
   "file_extension": ".py",
   "mimetype": "text/x-python",
   "name": "python",
   "nbconvert_exporter": "python",
   "pygments_lexer": "ipython3",
   "version": "3.10.2"
  },
  "orig_nbformat": 4,
  "vscode": {
   "interpreter": {
    "hash": "edf259275ad4a72d4dd5b452264ad5fb2b635233dff2a31edc6ebc740e55e21b"
   }
  }
 },
 "nbformat": 4,
 "nbformat_minor": 2
}
