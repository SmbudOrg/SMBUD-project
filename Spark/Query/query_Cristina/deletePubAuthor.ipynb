{
 "cells": [
  {
   "cell_type": "code",
   "execution_count": 226,
   "outputs": [],
   "source": [
    "# Import the basic spark library\n",
    "\n",
    "from pyspark.sql import SparkSession\n",
    "\n",
    "# Create an entry point to the PySpark Application\n",
    "spark = SparkSession.builder \\\n",
    "      .master(\"local\") \\\n",
    "      .appName(\"schemaBook\") \\\n",
    "      .getOrCreate()\n",
    "# master contains the URL of your remote spark instance or 'local'"
   ],
   "metadata": {
    "collapsed": false
   }
  },
  {
   "cell_type": "code",
   "execution_count": 227,
   "outputs": [
    {
     "name": "stdout",
     "output_type": "stream",
     "text": [
      "root\n",
      " |-- author: array (nullable = true)\n",
      " |    |-- element: struct (containsNull = true)\n",
      " |    |    |-- name: string (nullable = true)\n",
      " |    |    |-- orcid: string (nullable = true)\n",
      " |-- citations: long (nullable = true)\n",
      " |-- crossref: string (nullable = true)\n",
      " |-- editor: array (nullable = true)\n",
      " |    |-- element: struct (containsNull = true)\n",
      " |    |    |-- name: string (nullable = true)\n",
      " |    |    |-- orcid: string (nullable = true)\n",
      " |-- ee: array (nullable = true)\n",
      " |    |-- element: string (containsNull = true)\n",
      " |-- isbn: array (nullable = true)\n",
      " |    |-- element: string (containsNull = true)\n",
      " |-- key: string (nullable = true)\n",
      " |-- keyword: array (nullable = true)\n",
      " |    |-- element: string (containsNull = true)\n",
      " |-- pages: long (nullable = true)\n",
      " |-- publisher: string (nullable = true)\n",
      " |-- series: struct (nullable = true)\n",
      " |    |-- href: string (nullable = true)\n",
      " |    |-- title: string (nullable = true)\n",
      " |-- title: string (nullable = true)\n",
      " |-- volume: long (nullable = true)\n",
      " |-- year: long (nullable = true)\n",
      "\n"
     ]
    }
   ],
   "source": [
    "#schema book\n",
    "df_book = spark.read.option(\"multiline\",\"true\").json(\"book-db-manual.json\")\n",
    "df_book.printSchema()\n",
    "#df_book.show()"
   ],
   "metadata": {
    "collapsed": false
   }
  },
  {
   "cell_type": "code",
   "execution_count": 228,
   "outputs": [
    {
     "name": "stdout",
     "output_type": "stream",
     "text": [
      "root\n",
      " |-- author: array (nullable = true)\n",
      " |    |-- element: struct (containsNull = true)\n",
      " |    |    |-- name: string (nullable = true)\n",
      " |    |    |-- orcid: string (nullable = true)\n",
      " |-- citations: long (nullable = true)\n",
      " |-- cite: array (nullable = true)\n",
      " |    |-- element: string (containsNull = true)\n",
      " |-- ee: array (nullable = true)\n",
      " |    |-- element: string (containsNull = true)\n",
      " |-- journal: string (nullable = true)\n",
      " |-- key: string (nullable = true)\n",
      " |-- keyword: array (nullable = true)\n",
      " |    |-- element: string (containsNull = true)\n",
      " |-- note: array (nullable = true)\n",
      " |    |-- element: string (containsNull = true)\n",
      " |-- pages: long (nullable = true)\n",
      " |-- publisher: string (nullable = true)\n",
      " |-- title: string (nullable = true)\n",
      " |-- volume: long (nullable = true)\n",
      " |-- year: long (nullable = true)\n",
      "\n"
     ]
    }
   ],
   "source": [
    "#schema article\n",
    "df_article = spark.read.option(\"multiline\",\"true\").json(\"article-db-manual_conrefs.json\")\n",
    "df_article.printSchema()\n",
    "#df_article.show()"
   ],
   "metadata": {
    "collapsed": false
   }
  },
  {
   "cell_type": "code",
   "execution_count": 229,
   "outputs": [
    {
     "name": "stdout",
     "output_type": "stream",
     "text": [
      "root\n",
      " |-- author: array (nullable = true)\n",
      " |    |-- element: struct (containsNull = true)\n",
      " |    |    |-- name: string (nullable = true)\n",
      " |    |    |-- orcid: string (nullable = true)\n",
      " |-- citations: long (nullable = true)\n",
      " |-- crossref: string (nullable = true)\n",
      " |-- ee: array (nullable = true)\n",
      " |    |-- element: string (containsNull = true)\n",
      " |-- key: string (nullable = true)\n",
      " |-- keyword: array (nullable = true)\n",
      " |    |-- element: string (containsNull = true)\n",
      " |-- pages: long (nullable = true)\n",
      " |-- title: string (nullable = true)\n",
      " |-- year: long (nullable = true)\n",
      "\n"
     ]
    }
   ],
   "source": [
    "#schema incollection\n",
    "df_incollection = spark.read.option(\"multiline\",\"true\").json(\"incollection-db-manual.json\")\n",
    "df_incollection.printSchema()\n",
    "#df_incollection.show()"
   ],
   "metadata": {
    "collapsed": false
   }
  },
  {
   "cell_type": "markdown",
   "source": [
    "3) Removal of all the publications by a specific author"
   ],
   "metadata": {
    "collapsed": false
   }
  },
  {
   "cell_type": "code",
   "execution_count": 230,
   "outputs": [
    {
     "name": "stdout",
     "output_type": "stream",
     "text": [
      "root\n",
      " |-- author: array (nullable = true)\n",
      " |    |-- element: struct (containsNull = true)\n",
      " |    |    |-- name: string (nullable = true)\n",
      " |    |    |-- orcid: string (nullable = true)\n",
      " |-- citations: long (nullable = true)\n",
      " |-- crossref: string (nullable = true)\n",
      " |-- editor: array (nullable = true)\n",
      " |    |-- element: struct (containsNull = true)\n",
      " |    |    |-- name: string (nullable = true)\n",
      " |    |    |-- orcid: string (nullable = true)\n",
      " |-- ee: array (nullable = true)\n",
      " |    |-- element: string (containsNull = true)\n",
      " |-- isbn: array (nullable = true)\n",
      " |    |-- element: string (containsNull = true)\n",
      " |-- key: string (nullable = true)\n",
      " |-- keyword: array (nullable = true)\n",
      " |    |-- element: string (containsNull = true)\n",
      " |-- pages: long (nullable = true)\n",
      " |-- publisher: string (nullable = true)\n",
      " |-- series: struct (nullable = true)\n",
      " |    |-- href: string (nullable = true)\n",
      " |    |-- title: string (nullable = true)\n",
      " |-- title: string (nullable = true)\n",
      " |-- volume: long (nullable = true)\n",
      " |-- year: long (nullable = true)\n",
      " |-- cite: array (nullable = true)\n",
      " |    |-- element: string (containsNull = true)\n",
      " |-- journal: string (nullable = true)\n",
      " |-- note: array (nullable = true)\n",
      " |    |-- element: string (containsNull = true)\n",
      "\n"
     ]
    }
   ],
   "source": [
    "#union\n",
    "df_pub=df_book.unionByName(df_article,allowMissingColumns=True).unionByName(df_incollection,allowMissingColumns=True)\n",
    "df_pub.printSchema()\n",
    "#df_pub.show()"
   ],
   "metadata": {
    "collapsed": false
   }
  },
  {
   "cell_type": "code",
   "execution_count": 231,
   "outputs": [
    {
     "name": "stdout",
     "output_type": "stream",
     "text": [
      "+-----------------------------------+\n",
      "|key_k                              |\n",
      "+-----------------------------------+\n",
      "|journals/debu/HammerGWLZ95         |\n",
      "|journals/debu/Widom92              |\n",
      "|journals/debu/ChawatheGW94         |\n",
      "|journals/debu/Widom99              |\n",
      "|journals/dr/Widom99a               |\n",
      "|journals/dr/Widom99c               |\n",
      "|journals/dr/Widom99b               |\n",
      "|journals/dr/Widom99                |\n",
      "|journals/sigmod/SnodgrassHMOPRRWY98|\n",
      "|journals/tods/AikenHW95            |\n",
      "|journals/tkde/Widom96              |\n",
      "+-----------------------------------+\n",
      "\n"
     ]
    }
   ],
   "source": [
    "from pyspark.sql.functions import array_contains, col, explode\n",
    "\n",
    "df_pub_key=df_pub.select(col(\"key\"), explode(df_pub.author)).withColumnRenamed(\"col\", \"author\").select(col(\"key\"),\"author.name\",\"author.orcid\").filter(col(\"author.orcid\")==\"Jennifer Widom\").select(col(\"key\")).withColumnRenamed(\"key\", \"key_k\")\n",
    "df_pub_key.show(truncate=False)"
   ],
   "metadata": {
    "collapsed": false
   }
  },
  {
   "cell_type": "code",
   "execution_count": 232,
   "outputs": [
    {
     "name": "stdout",
     "output_type": "stream",
     "text": [
      "+--------------------------+---------------------------------------------------------------------------------------------------------------------------------------------------------------------------------------------------------------------------------------------------+\n",
      "|key                       |author                                                                                                                                                                                                                                             |\n",
      "+--------------------------+---------------------------------------------------------------------------------------------------------------------------------------------------------------------------------------------------------------------------------------------------+\n",
      "|reference/sp/2015ci       |null                                                                                                                                                                                                                                               |\n",
      "|reference/sp/2018dddas    |null                                                                                                                                                                                                                                               |\n",
      "|reference/sp/2015rsh      |null                                                                                                                                                                                                                                               |\n",
      "|reference/sp/2015dc       |null                                                                                                                                                                                                                                               |\n",
      "|reference/db/2018         |null                                                                                                                                                                                                                                               |\n",
      "|reference/industrie/2017-2|null                                                                                                                                                                                                                                               |\n",
      "|reference/industrie/2017-1|null                                                                                                                                                                                                                                               |\n",
      "|reference/industrie/2017-3|null                                                                                                                                                                                                                                               |\n",
      "|reference/industrie/2017-4|null                                                                                                                                                                                                                                               |\n",
      "|reference/mc/2018         |null                                                                                                                                                                                                                                               |\n",
      "|reference/robo/2016       |null                                                                                                                                                                                                                                               |\n",
      "|reference/edu/2020        |null                                                                                                                                                                                                                                               |\n",
      "|conf/riiforum/2021        |null                                                                                                                                                                                                                                               |\n",
      "|books/sp/PVGW2017         |null                                                                                                                                                                                                                                               |\n",
      "|books/sp/Ogihara18        |[{Mitsunori Ogihara, 0000-0002-5690-7854}]                                                                                                                                                                                                         |\n",
      "|books/sp/FernandezGGPKH18 |[{Alberto Fernandez 0001, Alberto Fernandez 0001}, {Salvador Garcia 0001, Salvador Garcia 0001}, {Mikel Galar, Mikel Galar}, {Ronaldo C. Prati, 0000-0001-8597-4987}, {Bartosz Krawczyk, Bartosz Krawczyk}, {Francisco Herrera, Francisco Herrera}]|\n",
      "|books/sp/DamasCI20        |[{Sergio Damas, 0000-0002-8377-8349}, {Oscar Cordon, Oscar Cordon}, {Oscar Ibanez, Oscar Ibanez}]                                                                                                                                                  |\n",
      "|books/sp/LCS2019          |null                                                                                                                                                                                                                                               |\n",
      "|books/sp/CaoC16           |[{Nan Cao, 0000-0003-1316-7515}, {Weiwei Cui, Weiwei Cui}]                                                                                                                                                                                         |\n",
      "|books/sp/Ondiviela21      |[{Jose A. Ondiviela, 0000-0001-6732-8754}]                                                                                                                                                                                                         |\n",
      "+--------------------------+---------------------------------------------------------------------------------------------------------------------------------------------------------------------------------------------------------------------------------------------------+\n",
      "only showing top 20 rows\n",
      "\n"
     ]
    }
   ],
   "source": [
    "\n",
    "df_pub=df_pub.join(df_pub_key, df_pub.key==df_pub_key.key_k, \"leftouter\").filter(df_pub_key.key_k.isNull()).drop(df_pub_key.key_k).select(col(\"key\"), col(\"author\"))\n",
    "df_pub.show(truncate=False)"
   ],
   "metadata": {
    "collapsed": false
   }
  },
  {
   "cell_type": "code",
   "execution_count": 233,
   "outputs": [
    {
     "name": "stderr",
     "output_type": "stream",
     "text": [
      "                                                                                \r"
     ]
    },
    {
     "name": "stdout",
     "output_type": "stream",
     "text": [
      "+---+----+-----+\n",
      "|key|name|orcid|\n",
      "+---+----+-----+\n",
      "+---+----+-----+\n",
      "\n"
     ]
    }
   ],
   "source": [
    "#check\n",
    "df_pub.select(col(\"key\"), explode(df_pub.author)).withColumnRenamed(\"col\", \"author\").select(col(\"key\"), \"author.name\", \"author.orcid\").filter(col(\"author.name\")==\"Jennifer Widom\").show(truncate=False)"
   ],
   "metadata": {
    "collapsed": false
   }
  }
 ],
 "metadata": {
  "kernelspec": {
   "display_name": "Python 3",
   "language": "python",
   "name": "python3"
  },
  "language_info": {
   "codemirror_mode": {
    "name": "ipython",
    "version": 2
   },
   "file_extension": ".py",
   "mimetype": "text/x-python",
   "name": "python",
   "nbconvert_exporter": "python",
   "pygments_lexer": "ipython2",
   "version": "2.7.6"
  }
 },
 "nbformat": 4,
 "nbformat_minor": 0
}
