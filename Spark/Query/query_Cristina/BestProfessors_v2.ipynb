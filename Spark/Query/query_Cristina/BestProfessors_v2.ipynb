{
 "cells": [
  {
   "cell_type": "code",
   "execution_count": 317,
   "metadata": {
    "collapsed": true
   },
   "outputs": [],
   "source": []
  },
  {
   "cell_type": "code",
   "execution_count": 318,
   "outputs": [],
   "source": [
    "# Import the basic spark library\n",
    "\n",
    "from pyspark.sql import SparkSession\n",
    "\n",
    "# Create an entry point to the PySpark Application\n",
    "spark = SparkSession.builder \\\n",
    "      .master(\"local\") \\\n",
    "      .appName(\"schemaBook\") \\\n",
    "      .getOrCreate()\n",
    "# master contains the URL of your remote spark instance or 'local'"
   ],
   "metadata": {
    "collapsed": false
   }
  },
  {
   "cell_type": "code",
   "execution_count": 319,
   "outputs": [
    {
     "name": "stdout",
     "output_type": "stream",
     "text": [
      "root\n",
      " |-- author: array (nullable = true)\n",
      " |    |-- element: struct (containsNull = true)\n",
      " |    |    |-- name: string (nullable = true)\n",
      " |    |    |-- orcid: string (nullable = true)\n",
      " |-- citations: long (nullable = true)\n",
      " |-- crossref: string (nullable = true)\n",
      " |-- editor: array (nullable = true)\n",
      " |    |-- element: struct (containsNull = true)\n",
      " |    |    |-- name: string (nullable = true)\n",
      " |    |    |-- orcid: string (nullable = true)\n",
      " |-- ee: array (nullable = true)\n",
      " |    |-- element: string (containsNull = true)\n",
      " |-- isbn: array (nullable = true)\n",
      " |    |-- element: string (containsNull = true)\n",
      " |-- key: string (nullable = true)\n",
      " |-- keyword: array (nullable = true)\n",
      " |    |-- element: string (containsNull = true)\n",
      " |-- pages: long (nullable = true)\n",
      " |-- publisher: string (nullable = true)\n",
      " |-- series: struct (nullable = true)\n",
      " |    |-- href: string (nullable = true)\n",
      " |    |-- title: string (nullable = true)\n",
      " |-- title: string (nullable = true)\n",
      " |-- volume: long (nullable = true)\n",
      " |-- year: long (nullable = true)\n",
      "\n"
     ]
    }
   ],
   "source": [
    "#schema book\n",
    "df_book = spark.read.option(\"multiline\",\"true\").json(\"book-db-manual.json\")\n",
    "df_book.printSchema()\n",
    "#df_book.show()"
   ],
   "metadata": {
    "collapsed": false
   }
  },
  {
   "cell_type": "code",
   "execution_count": 320,
   "outputs": [
    {
     "name": "stdout",
     "output_type": "stream",
     "text": [
      "root\n",
      " |-- author: array (nullable = true)\n",
      " |    |-- element: struct (containsNull = true)\n",
      " |    |    |-- name: string (nullable = true)\n",
      " |    |    |-- orcid: string (nullable = true)\n",
      " |-- citations: long (nullable = true)\n",
      " |-- cite: array (nullable = true)\n",
      " |    |-- element: string (containsNull = true)\n",
      " |-- ee: array (nullable = true)\n",
      " |    |-- element: string (containsNull = true)\n",
      " |-- journal: string (nullable = true)\n",
      " |-- key: string (nullable = true)\n",
      " |-- keyword: array (nullable = true)\n",
      " |    |-- element: string (containsNull = true)\n",
      " |-- note: array (nullable = true)\n",
      " |    |-- element: string (containsNull = true)\n",
      " |-- pages: long (nullable = true)\n",
      " |-- publisher: string (nullable = true)\n",
      " |-- title: string (nullable = true)\n",
      " |-- volume: long (nullable = true)\n",
      " |-- year: long (nullable = true)\n",
      "\n"
     ]
    }
   ],
   "source": [
    "#schema article\n",
    "df_article = spark.read.option(\"multiline\",\"true\").json(\"article-db-manual_conrefs.json\")\n",
    "df_article.printSchema()\n",
    "#df_article.show()"
   ],
   "metadata": {
    "collapsed": false
   }
  },
  {
   "cell_type": "code",
   "execution_count": 321,
   "outputs": [
    {
     "name": "stdout",
     "output_type": "stream",
     "text": [
      "root\n",
      " |-- author: array (nullable = true)\n",
      " |    |-- element: struct (containsNull = true)\n",
      " |    |    |-- name: string (nullable = true)\n",
      " |    |    |-- orcid: string (nullable = true)\n",
      " |-- key: string (nullable = true)\n",
      " |-- note: array (nullable = true)\n",
      " |    |-- element: string (containsNull = true)\n",
      " |-- url: array (nullable = true)\n",
      " |    |-- element: string (containsNull = true)\n",
      "\n"
     ]
    }
   ],
   "source": [
    "#schema www\n",
    "df_www = spark.read.option(\"multiline\",\"true\").json(\"www-db-manual.json\")\n",
    "df_www.printSchema()\n",
    "#df_www.show()"
   ],
   "metadata": {
    "collapsed": false
   }
  },
  {
   "cell_type": "code",
   "execution_count": 321,
   "outputs": [],
   "source": [],
   "metadata": {
    "collapsed": false
   }
  },
  {
   "cell_type": "markdown",
   "source": [
    "0.1.4 VERSION 2: Best PROFESSORS according to number of citations at a given university\n",
    "\n",
    "The following query can be used to find the authors affiliated with a specific university\n",
    "(e.g.’University of Maryland, College Park, USA’) ordering them by the average number of citations(at least 5) received by their publications(books, articles) from any article published in the last years(since 1990)."
   ],
   "metadata": {
    "collapsed": false
   }
  },
  {
   "cell_type": "code",
   "execution_count": 322,
   "outputs": [],
   "source": [
    "#import\n",
    "from pyspark.sql.functions import col, first                       # Filtering using the col() function\n",
    "from pyspark.sql.functions import array_contains            # Filtering on array columns\n",
    "from pyspark.sql.functions import explode                   # Explode Arrays in Individual Rows\n",
    "from pyspark.sql.functions import collect_list\n",
    "from pyspark.sql.functions import avg, count                # Multiple Aggregations\n",
    "\n"
   ],
   "metadata": {
    "collapsed": false
   }
  },
  {
   "cell_type": "markdown",
   "source": [],
   "metadata": {
    "collapsed": false
   }
  },
  {
   "cell_type": "code",
   "execution_count": 323,
   "outputs": [],
   "source": [
    "df_book = df_book  \\\n",
    "    .select(df_book.key, df_book.author, df_book.year)\n",
    "df_article = df_article  \\\n",
    "    .select(df_article.key, df_article.author, df_article.cite, df_article.year )"
   ],
   "metadata": {
    "collapsed": false
   }
  },
  {
   "cell_type": "code",
   "execution_count": 324,
   "outputs": [],
   "source": [
    "#authors affiliated with a specific university\n",
    "df_www_authors=df_www.filter(array_contains(df_www.note, \"University of Maryland, College Park, USA\"))\\\n",
    "    .select(explode(df_www.author)).withColumnRenamed(\"col\", \"author\")\n",
    "#df_www_authors.printSchema()\n",
    "#df_www_authors.show(truncate=False)"
   ],
   "metadata": {
    "collapsed": false
   }
  },
  {
   "cell_type": "code",
   "execution_count": 325,
   "outputs": [],
   "source": [
    "#union of all the publications\n",
    "df_pub= df_article.unionByName(df_book, allowMissingColumns=True).select(\"key\", \"author\")\n",
    "#df_pub.printSchema()\n",
    "#df_pub.show(truncate=False)"
   ],
   "metadata": {
    "collapsed": false
   }
  },
  {
   "cell_type": "code",
   "execution_count": 326,
   "outputs": [],
   "source": [
    "#filter articles published since 1990\n",
    "df_article=df_article.filter(col(\"year\")>1990).select(explode(\"cite\")).withColumnRenamed(\"col\", \"cite\")\n",
    "#df_article.printSchema()\n",
    "#df_article.show(truncate=False)"
   ],
   "metadata": {
    "collapsed": false
   }
  },
  {
   "cell_type": "code",
   "execution_count": 327,
   "outputs": [],
   "source": [
    "#count number of citations received by each publication from articles published since 1990\n",
    "df_pub=df_article.join(df_pub, df_article.cite==df_pub.key, \"left\")\\\n",
    "    .groupBy(\"key\").agg(count(\"cite\").alias(\"CountOfCitations\"),first(\"author\").alias(\"author\"))\\\n",
    "    .select(col(\"key\"), col(\"CountOfCitations\"), explode(col(\"author\")))\\\n",
    "    .withColumnRenamed(\"col\", \"author\")"
   ],
   "metadata": {
    "collapsed": false
   }
  },
  {
   "cell_type": "code",
   "execution_count": 328,
   "outputs": [
    {
     "name": "stdout",
     "output_type": "stream",
     "text": [
      "+--------------+-------+\n",
      "|name          |Avg Cit|\n",
      "+--------------+-------+\n",
      "|Alan Sussman  |7.0    |\n",
      "|Louiqa Raschid|6.0    |\n",
      "|Joel H. Saltz |6.0    |\n",
      "|Dana S. Nau   |5.0    |\n",
      "+--------------+-------+\n",
      "\n"
     ]
    }
   ],
   "source": [
    "result = df_www_authors.join(df_pub, df_www_authors.author == df_pub.author, \"left\")\\\n",
    "    .groupBy(df_pub.author).agg(avg(\"CountOfCitations\").alias(\"Avg Cit\"))\\\n",
    "    .filter(col(\"Avg Cit\")>=\"5\")\\\n",
    "    .select(col(\"author.name\"), col(\"Avg Cit\")).sort(col(\"Avg Cit\").desc()).show(truncate=False)"
   ],
   "metadata": {
    "collapsed": false
   }
  }
 ],
 "metadata": {
  "kernelspec": {
   "display_name": "Python 3",
   "language": "python",
   "name": "python3"
  },
  "language_info": {
   "codemirror_mode": {
    "name": "ipython",
    "version": 2
   },
   "file_extension": ".py",
   "mimetype": "text/x-python",
   "name": "python",
   "nbconvert_exporter": "python",
   "pygments_lexer": "ipython2",
   "version": "2.7.6"
  }
 },
 "nbformat": 4,
 "nbformat_minor": 0
}
