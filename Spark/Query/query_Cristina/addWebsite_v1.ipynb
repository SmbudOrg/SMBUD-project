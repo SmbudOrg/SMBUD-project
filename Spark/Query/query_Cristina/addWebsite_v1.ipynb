{
 "cells": [
  {
   "cell_type": "code",
   "execution_count": 164,
   "outputs": [],
   "source": [
    "# Import the basic spark library\n",
    "\n",
    "from pyspark.sql import SparkSession\n",
    "\n",
    "# Create an entry point to the PySpark Application\n",
    "spark = SparkSession.builder \\\n",
    "      .master(\"local\") \\\n",
    "      .appName(\"schemaBook\") \\\n",
    "      .getOrCreate()\n",
    "# master contains the URL of your remote spark instance or 'local'"
   ],
   "metadata": {
    "collapsed": false
   }
  },
  {
   "cell_type": "code",
   "execution_count": 165,
   "outputs": [
    {
     "name": "stdout",
     "output_type": "stream",
     "text": [
      "root\n",
      " |-- author: array (nullable = true)\n",
      " |    |-- element: struct (containsNull = true)\n",
      " |    |    |-- name: string (nullable = true)\n",
      " |    |    |-- orcid: string (nullable = true)\n",
      " |-- key: string (nullable = true)\n",
      " |-- note: array (nullable = true)\n",
      " |    |-- element: string (containsNull = true)\n",
      " |-- url: array (nullable = true)\n",
      " |    |-- element: string (containsNull = true)\n",
      "\n",
      "+--------------------+--------------------+--------------------+--------------------+\n",
      "|              author|                 key|                note|                 url|\n",
      "+--------------------+--------------------+--------------------+--------------------+\n",
      "|[{Alejandro Rodri...|  homepages/189/9749|[Western Norway U...|[https://orcid.or...|\n",
      "|[{Kikuo Fujimura,...|homepages/f/Kikuo...|[Ohio State Unive...|[http://www.cse.o...|\n",
      "|[{Pierfrancesco F...|homepages/f/Pierf...|                null|[http://garga.iet...|\n",
      "|[{Farshad Fotouhi...|homepages/f/Farsh...|[Wayne State Univ...|[http://www.cs.wa...|\n",
      "|[{Ada Wai-Chee Fu...|homepages/f/AdaWa...|                null|[http://www.cs.cu...|\n",
      "|[{Robert B. Franc...|homepages/f/RBFrance|[Colorado State U...|[http://www.cs.co...|\n",
      "|[{Jan Flokstra, J...|homepages/f/JanFl...|[University of Tw...|[http://www.cs.ut...|\n",
      "|[{Maria Grazia Fu...|homepages/f/Maria...|[Polytechnic Univ...|[http://fugini.fa...|\n",
      "|[{Dieter W. Felln...|homepages/f/DWFel...|[Fraunhofer Insti...|[http://www.igd.f...|\n",
      "|[{Francois Fages,...|homepages/f/Franc...|     [INRIA, France]|[http://contraint...|\n",
      "|[{Andrew Fetterer...|homepages/f/Andre...|                null|[http://www.fette...|\n",
      "|[{Piero Fraternal...|homepages/f/Piero...|[Polytechnic Univ...|[http://www.elet....|\n",
      "|[{Jerome Feret, J...|homepages/f/Jerom...| [ENS Paris, France]|[http://www.di.en...|\n",
      "|[{Alvaro A. A. Fe...|homepages/f/AAAFe...|[University of Ma...|[http://www.cs.ma...|\n",
      "|[{Simone Fischer-...|homepages/f/Simon...|[Karlstad Univers...|[http://www.cs.ka...|\n",
      "|[{Pedro Furtado 0...|homepages/f/Pedro...|[University of Co...|[http://eden.dei....|\n",
      "|[{W. Kent Fuchs, ...|homepages/f/WKent...|[Purdue Universit...|[http://composer....|\n",
      "|[{Ronald Fagin, R...|homepages/f/Ronal...|[IBM Almaden Rese...|[https://research...|\n",
      "|[{Elena Ferrari, ...|homepages/f/Elena...|[University of In...|[http://www.dicom...|\n",
      "|[{Usama M. Fayyad...|homepages/f/Usama...|                null|[http://www-aig.j...|\n",
      "+--------------------+--------------------+--------------------+--------------------+\n",
      "only showing top 20 rows\n",
      "\n"
     ]
    }
   ],
   "source": [
    "#schema www\n",
    "df_www= spark.read.option(\"multiline\", \"true\").json(\"www-db-manual.json\")\n",
    "df_www.printSchema()\n",
    "df_www.show()\n"
   ],
   "metadata": {
    "collapsed": false
   }
  },
  {
   "cell_type": "code",
   "execution_count": 166,
   "outputs": [],
   "source": [
    "#import\n",
    "from pyspark.sql.types import StructType,StructField, StringType, ArrayType"
   ],
   "metadata": {
    "collapsed": false
   }
  },
  {
   "cell_type": "markdown",
   "source": [
    "2. VERSION 1 Add a new WEBSITE\n",
    "The following command can be used to insert a website for Barbara Hausmann, affiliating her to the Technical University of Graz, Austria ."
   ],
   "metadata": {
    "collapsed": false
   }
  },
  {
   "cell_type": "code",
   "execution_count": 167,
   "outputs": [
    {
     "name": "stdout",
     "output_type": "stream",
     "text": [
      "root\n",
      " |-- author: array (nullable = true)\n",
      " |    |-- element: struct (containsNull = true)\n",
      " |    |    |-- orcid: string (nullable = true)\n",
      " |    |    |-- name: string (nullable = true)\n",
      " |-- key: string (nullable = true)\n",
      " |-- note: array (nullable = true)\n",
      " |    |-- element: string (containsNull = true)\n",
      " |-- url: array (nullable = true)\n",
      " |    |-- element: string (containsNull = true)\n",
      "\n",
      "+--------------------------------------+-------------+---------------------------------------+-------------------------+\n",
      "|author                                |key          |note                                   |url                      |\n",
      "+--------------------------------------+-------------+---------------------------------------+-------------------------+\n",
      "|[{Barbara Hausmann, Barbara Hausmann}]|NewWebsiteKey|[Technical University of Graz, Austria]|[www.barbarahausmann.com]|\n",
      "+--------------------------------------+-------------+---------------------------------------+-------------------------+\n",
      "\n"
     ]
    }
   ],
   "source": [
    "data = [([(\"Barbara Hausmann\",\"Barbara Hausmann\")], \"NewWebsiteKey\", [\"Technical University of Graz, Austria\"], [\"www.barbarahausmann.com\"])]\n",
    "\n",
    "schema= StructType([\n",
    "      StructField(\"author\",ArrayType(StructType([\n",
    "       StructField(\"orcid\", StringType(), True),\n",
    "       StructField(\"name\", StringType(), True)\n",
    "       ])),True),\n",
    "      StructField(\"key\",StringType(),True),\n",
    "      StructField(\"note\",ArrayType(StringType()), True),\n",
    "      StructField(\"url\",ArrayType(StringType()), True)\n",
    "      ])\n",
    "newWeb= spark.createDataFrame(data = data, schema = schema)\n",
    "newWeb.printSchema()\n",
    "newWeb.show(truncate=False)"
   ],
   "metadata": {
    "collapsed": false
   }
  },
  {
   "cell_type": "code",
   "execution_count": 168,
   "outputs": [
    {
     "name": "stdout",
     "output_type": "stream",
     "text": [
      "root\n",
      " |-- author: array (nullable = true)\n",
      " |    |-- element: struct (containsNull = true)\n",
      " |    |    |-- name: string (nullable = true)\n",
      " |    |    |-- orcid: string (nullable = true)\n",
      " |-- key: string (nullable = true)\n",
      " |-- note: array (nullable = true)\n",
      " |    |-- element: string (containsNull = true)\n",
      " |-- url: array (nullable = true)\n",
      " |    |-- element: string (containsNull = true)\n",
      "\n",
      "+----------------------------------------------------------------------------------------------------------------------------------------------+-------------------------------+------------------------------------------------------------------------------------------------------------------------------------------------+-----------------------------------------------------------------------------------------------------------------------------------------------------------------------------------------------------------------------------------------------------------------------------------------------------------------------------------------------------------------------------------------------------------------------------------------------------------------------------------------------------------------------------------------------------------------------------------------------------------------------------+\n",
      "|author                                                                                                                                        |key                            |note                                                                                                                                            |url                                                                                                                                                                                                                                                                                                                                                                                                                                                                                                                                                                                                                          |\n",
      "+----------------------------------------------------------------------------------------------------------------------------------------------+-------------------------------+------------------------------------------------------------------------------------------------------------------------------------------------+-----------------------------------------------------------------------------------------------------------------------------------------------------------------------------------------------------------------------------------------------------------------------------------------------------------------------------------------------------------------------------------------------------------------------------------------------------------------------------------------------------------------------------------------------------------------------------------------------------------------------------+\n",
      "|[{Alejandro Rodriguez 0006, Alejandro Rodriguez 0006}, {Alejandro Rodriguez Tena, Alejandro Rodriguez Tena}]                                  |homepages/189/9749             |[Western Norway University of Applied Sciences, Bergen, University of Extremadura, Caceres, Spain]                                              |[https://orcid.org/0000-0002-9605-9546]                                                                                                                                                                                                                                                                                                                                                                                                                                                                                                                                                                                      |\n",
      "|[{Kikuo Fujimura, Kikuo Fujimura}]                                                                                                            |homepages/f/KikuoFujimura      |[Ohio State University, Columbus, USA]                                                                                                          |[http://www.cse.ohio-state.edu/~fujimura/]                                                                                                                                                                                                                                                                                                                                                                                                                                                                                                                                                                                   |\n",
      "|[{Pierfrancesco Foglia, Pierfrancesco Foglia}]                                                                                                |homepages/f/PierfrancescoFoglia|null                                                                                                                                            |[http://garga.iet.unipi.it/, https://dl.acm.org/profile/81100105191, https://orcid.org/0000-0001-6432-4504, https://www.wikidata.org/entity/Q109777958]                                                                                                                                                                                                                                                                                                                                                                                                                                                                      |\n",
      "|[{Farshad Fotouhi, Farshad Fotouhi}]                                                                                                          |homepages/f/FarshadFotouhi     |[Wayne State University, Detroit, USA]                                                                                                          |[http://www.cs.wayne.edu/fotouhi/, https://dl.acm.org/profile/81100250083, https://zbmath.org/authors/?q=ai:fotouhi.farshad, https://mathgenealogy.org/id.php?id=103065, https://en.wikipedia.org/wiki/Farshad_Fotouhi, https://www.wikidata.org/entity/Q5436402]                                                                                                                                                                                                                                                                                                                                                            |\n",
      "|[{Ada Wai-Chee Fu, Ada Wai-Chee Fu}]                                                                                                          |homepages/f/AdaWaiCheeFu       |null                                                                                                                                            |[http://www.cs.cuhk.hk/~adafu/, https://scholar.google.com/citations?user=tcwyqtUAAAAJ]                                                                                                                                                                                                                                                                                                                                                                                                                                                                                                                                      |\n",
      "|[{Robert B. France, Robert B. France}]                                                                                                        |homepages/f/RBFrance           |[Colorado State University, USA]                                                                                                                |[http://www.cs.colostate.edu/~france/, http://source.colostate.edu/in-memory-robert-france/, https://scholar.google.com/citations?user=fqsgCbAAAAAJ, https://dl.acm.org/profile/81310491615, https://mathgenealogy.org/id.php?id=124938, https://en.wikipedia.org/wiki/Robert_France, https://www.wikidata.org/entity/Q85204638]                                                                                                                                                                                                                                                                                             |\n",
      "|[{Jan Flokstra, Jan Flokstra}]                                                                                                                |homepages/f/JanFlokstra        |[University of Twente, Enschede, Netherlands]                                                                                                   |[http://www.cs.utwente.nl/~flokstra/]                                                                                                                                                                                                                                                                                                                                                                                                                                                                                                                                                                                        |\n",
      "|[{Maria Grazia Fugini, Maria Grazia Fugini}, {Mariagrazia Fugini, Mariagrazia Fugini}]                                                        |homepages/f/MariaGraziaFugini  |[Polytechnic University of Milan, Italy]                                                                                                        |[http://fugini.faculty.polimi.it/, https://scholar.google.com/citations?user=xiSJFg4AAAAJ, https://orcid.org/0000-0002-0692-0153, https://www.wikidata.org/entity/Q58649831]                                                                                                                                                                                                                                                                                                                                                                                                                                                 |\n",
      "|[{Dieter W. Fellner, Dieter W. Fellner}, {Wolf-Dietrich Fellner, Wolf-Dietrich Fellner}]                                                      |homepages/f/DWFellner          |[Fraunhofer Institute for Computer Graphics Research (IGD), TU Darmstadt, Department of Computer Science, Technical University of Graz, Austria]|[http://www.igd.fraunhofer.de/en/Institut/Institutsleitung/Prof-Dr-techn-Dieter-W-Fellner, http://de.wikipedia.org/wiki/Dieter_W._Fellner, https://scholar.google.com/citations?user=V_qa12YAAAAJ, https://dl.acm.org/profile/81100647027, https://zbmath.org/authors/?q=ai:fellner.dieter-w, https://orcid.org/0000-0001-7756-0901, https://www.wikidata.org/entity/Q1222945, https://www.scopus.com/authid/detail.uri?authorId=6603799372, https://www.scopus.com/authid/detail.uri?authorId=56767812100, https://viaf.org/viaf/957436, https://id.loc.gov/authorities/names/no2002104546, https://d-nb.info/gnd/124849172]|\n",
      "|[{Francois Fages, Francois Fages}]                                                                                                            |homepages/f/FrancoisFages      |[INRIA, France]                                                                                                                                 |[http://contraintes.inria.fr/~fages/, https://scholar.google.com/citations?user=SAkc_mEAAAAJ, https://mathgenealogy.org/id.php?id=137163, https://en.wikipedia.org/wiki/Fran%C3%A7ois_Fages, https://orcid.org/0000-0001-5650-8266, https://www.wikidata.org/entity/Q27863085]                                                                                                                                                                                                                                                                                                                                               |\n",
      "|[{Andrew Fetterer, Andrew Fetterer}]                                                                                                          |homepages/f/AndrewFetterer     |null                                                                                                                                            |[http://www.fetterer.com/]                                                                                                                                                                                                                                                                                                                                                                                                                                                                                                                                                                                                   |\n",
      "|[{Piero Fraternali, Piero Fraternali}]                                                                                                        |homepages/f/PieroFraternali    |[Polytechnic University of Milan, Italy]                                                                                                        |[http://www.elet.polimi.it/upload/fraterna/Piero.Fraternali/Default.htm, https://scholar.google.com/citations?user=IhFm8bIAAAAJ]                                                                                                                                                                                                                                                                                                                                                                                                                                                                                             |\n",
      "|[{Jerome Feret, Jerome Feret}]                                                                                                                |homepages/f/JeromeFeret        |[ENS Paris, France]                                                                                                                             |[http://www.di.ens.fr/~feret/, https://scholar.google.com/citations?user=TcO5mvwAAAAJ]                                                                                                                                                                                                                                                                                                                                                                                                                                                                                                                                       |\n",
      "|[{Alvaro A. A. Fernandes, Alvaro A. A. Fernandes}, {Alvaro Adolfo Antunes Fernandes, Alvaro Adolfo Antunes Fernandes}]                        |homepages/f/AAAFernandes       |[University of Manchester, UK]                                                                                                                  |[http://www.cs.man.ac.uk/~alvaro/, https://dl.acm.org/profile/81100595375, https://orcid.org/0000-0002-6100-7199, https://www.wikidata.org/entity/Q107269499]                                                                                                                                                                                                                                                                                                                                                                                                                                                                |\n",
      "|[{Simone Fischer-Hubner, Simone Fischer-Hubner}]                                                                                              |homepages/f/SimoneFischerHubner|[Karlstad University, Sweden]                                                                                                                   |[http://www.cs.kau.se/~simone/, https://en.wikipedia.org/wiki/Simone_Fischer-H%C3%BCbner, https://orcid.org/0000-0002-6938-4466, https://www.wikidata.org/entity/Q25935851, https://id.loc.gov/authorities/names/no00004674, https://d-nb.info/gnd/1157193048]                                                                                                                                                                                                                                                                                                                                                               |\n",
      "|[{Pedro Furtado 0001, Pedro Furtado 0001}, {Pedro N. Furtado, Pedro N. Furtado}, {Pedro Nuno San-Bento Furtado, Pedro Nuno San-Bento Furtado}]|homepages/f/PedroFurtado       |[University of Coimbra, Portugal]                                                                                                               |[http://eden.dei.uc.pt/~pnf/, http://coimbra.academia.edu/PedroFurtado, https://scholar.google.com/citations?user=EmQ9ZwkAAAAJ, https://orcid.org/0000-0001-6054-637X, https://www.wikidata.org/entity/Q58337660, https://www.scopus.com/authid/detail.uri?authorId=35612898700, https://www.researchgate.net/profile/Pedro_Furtado]                                                                                                                                                                                                                                                                                         |\n",
      "|[{W. Kent Fuchs, W. Kent Fuchs}]                                                                                                              |homepages/f/WKentFuchs         |[Purdue University, West Lafayette, USA]                                                                                                        |[http://composer.ecn.purdue.edu/~fuchs/, https://dl.acm.org/profile/81100066998, https://en.wikipedia.org/wiki/W._Kent_Fuchs, https://en.wikipedia.org/wiki/Kent_Fuchs, https://www.wikidata.org/entity/Q7945770, https://viaf.org/viaf/215368048, https://d-nb.info/gnd/172668824]                                                                                                                                                                                                                                                                                                                                          |\n",
      "|[{Ronald Fagin, Ronald Fagin}]                                                                                                                |homepages/f/RonaldFagin        |[IBM Almaden Research Center, San Jose, USA, Godel Prize, W. Wallace McDowell Award, SIGMOD Edgar F. Codd Innovations Award]                    |[https://researcher.watson.ibm.com/researcher/view.php?person=us-fagin, https://scholar.google.com/citations?user=ohL-Y50AAAAJ, https://dl.acm.org/profile/81100578906, https://mathgenealogy.org/id.php?id=32725, https://en.wikipedia.org/wiki/Ronald_Fagin, https://orcid.org/0000-0002-7374-0347, https://www.wikidata.org/entity/Q93124, http://isni.org/isni/0000000109530276, https://viaf.org/viaf/9081102, https://id.loc.gov/authorities/names/n94093177, https://d-nb.info/gnd/1137269294]                                                                                                                        |\n",
      "|[{Elena Ferrari, Elena Ferrari}]                                                                                                              |homepages/f/ElenaFerrari       |[University of Insubria, Varese, Italy]                                                                                                         |[http://www.dicom.uninsubria.it/~elena.ferrari/, https://loop.frontiersin.org/people/548775/, https://www.acm.org/articles/people-of-acm/2020/elena-ferrari, https://scholar.google.com/citations?user=kOc4beIAAAAJ, https://dl.acm.org/profile/81339498938, https://mathgenealogy.org/id.php?id=182142, https://en.wikipedia.org/wiki/Elena_Ferrari, https://orcid.org/0000-0002-7312-6769, https://www.wikidata.org/entity/Q58733715, https://www.wikidata.org/entity/Q30122307, https://www.scopus.com/authid/detail.uri?authorId=7202281602]                                                                             |\n",
      "|[{Usama M. Fayyad, Usama M. Fayyad}]                                                                                                          |homepages/f/UsamaMFayyad       |null                                                                                                                                            |[http://www-aig.jpl.nasa.gov/mls/home/fayyad/, https://dl.acm.org/profile/81100172620, https://en.wikipedia.org/wiki/Usama_Fayyad, https://www.wikidata.org/entity/Q3552533, https://id.loc.gov/authorities/names/nr93016856]                                                                                                                                                                                                                                                                                                                                                                                                |\n",
      "+----------------------------------------------------------------------------------------------------------------------------------------------+-------------------------------+------------------------------------------------------------------------------------------------------------------------------------------------+-----------------------------------------------------------------------------------------------------------------------------------------------------------------------------------------------------------------------------------------------------------------------------------------------------------------------------------------------------------------------------------------------------------------------------------------------------------------------------------------------------------------------------------------------------------------------------------------------------------------------------+\n",
      "only showing top 20 rows\n",
      "\n"
     ]
    }
   ],
   "source": [
    "df_www =df_www.unionByName(newWeb, allowMissingColumns=True)\n",
    "df_www.printSchema()\n",
    "df_www.show(truncate=False)"
   ],
   "metadata": {
    "collapsed": false
   }
  },
  {
   "cell_type": "code",
   "execution_count": 169,
   "outputs": [
    {
     "name": "stdout",
     "output_type": "stream",
     "text": [
      "+---------------------+------------------------------------------------------------------------------------------------------------------------------------------------+\n",
      "|key                  |note                                                                                                                                            |\n",
      "+---------------------+------------------------------------------------------------------------------------------------------------------------------------------------+\n",
      "|homepages/f/DWFellner|[Fraunhofer Institute for Computer Graphics Research (IGD), TU Darmstadt, Department of Computer Science, Technical University of Graz, Austria]|\n",
      "|NewWebsiteKey        |[Technical University of Graz, Austria]                                                                                                         |\n",
      "+---------------------+------------------------------------------------------------------------------------------------------------------------------------------------+\n",
      "\n"
     ]
    }
   ],
   "source": [
    "#check\n",
    "from pyspark.sql.functions import array_contains, col\n",
    "df_www.filter(array_contains(df_www.note, \"Technical University of Graz, Austria\")).select(col(\"key\"),col(\"note\")).show(truncate=False)"
   ],
   "metadata": {
    "collapsed": false
   }
  },
  {
   "cell_type": "code",
   "execution_count": 169,
   "outputs": [],
   "source": [],
   "metadata": {
    "collapsed": false
   }
  }
 ],
 "metadata": {
  "kernelspec": {
   "display_name": "Python 3",
   "language": "python",
   "name": "python3"
  },
  "language_info": {
   "codemirror_mode": {
    "name": "ipython",
    "version": 2
   },
   "file_extension": ".py",
   "mimetype": "text/x-python",
   "name": "python",
   "nbconvert_exporter": "python",
   "pygments_lexer": "ipython2",
   "version": "2.7.6"
  }
 },
 "nbformat": 4,
 "nbformat_minor": 0
}
