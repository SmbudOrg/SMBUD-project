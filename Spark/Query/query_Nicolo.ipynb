{
 "cells": [
  {
   "cell_type": "code",
   "execution_count": 12,
   "metadata": {},
   "outputs": [],
   "source": [
    "from pyspark.sql import SparkSession\n",
    "from pyspark.sql import SparkSession\n",
    "from pyspark.sql.types import StructType, StructField, StringType, FloatType, ArrayType\n",
    "from pyspark.sql.functions import col                       # Filtering using the col() function\n",
    "from pyspark.sql.functions import array_contains            # Filtering on array columns\n",
    "from pyspark.sql.functions import explode                   # Explode Arrays in Individual Rows\n",
    "from pyspark.sql.functions import sum, avg, count, max      # Multiple Aggregations\n",
    "from pyspark.sql.functions import first, last\n",
    "from pyspark.sql.functions import countDistinct\n",
    "\n",
    "# Create an entry point to the PySpark Application\n",
    "spark = SparkSession.builder \\\n",
    "      .master(\"local\") \\\n",
    "      .appName(\"MyFirstSparkApplication\") \\\n",
    "      .getOrCreate()"
   ]
  },
  {
   "cell_type": "code",
   "execution_count": 2,
   "metadata": {},
   "outputs": [],
   "source": [
    "#IMPORT\n",
    "\n",
    "df_book = spark.read.option(\"multiline\",\"true\")  \\\n",
    "      .json(\"Datasets/book-db.json\")\n",
    "\n",
    "df_article = spark.read.option(\"multiline\",\"true\")  \\\n",
    "      .json(\"Datasets/article-db.json\")\n",
    "\n",
    "df_incollection = spark.read.option(\"multiline\",\"true\")  \\\n",
    "      .json(\"Datasets/incollection-db.json\")\n",
    "\n",
    "df_www = spark.read.option(\"multiline\",\"true\")  \\\n",
    "      .json(\"Datasets/www-db.json\")\n"
   ]
  },
  {
   "cell_type": "code",
   "execution_count": null,
   "metadata": {},
   "outputs": [],
   "source": [
    "#df_article.show()\n",
    "#df_book.show()\n",
    "#df_incollection.show()\n",
    "#df_www.show()\n"
   ]
  },
  {
   "cell_type": "markdown",
   "metadata": {},
   "source": [
    "# **1. Top Journals for heterogeneity of topics**\n",
    "This query is useful to obtain the journals which are the most heterogeneous, i.e. the ones whose articles cover a good number of topics. \n",
    "In this case, we want the top 10 journals that have published articles related to at least 25 different keywords."
   ]
  },
  {
   "cell_type": "code",
   "execution_count": 29,
   "metadata": {},
   "outputs": [
    {
     "name": "stdout",
     "output_type": "stream",
     "text": [
      "+----------------------------+------------------+\n",
      "|journal                     |number of keywords|\n",
      "+----------------------------+------------------+\n",
      "|SIGMOD Rec.                 |45                |\n",
      "|IEEE Trans. Knowl. Data Eng.|45                |\n",
      "|IEEE Data Eng. Bull.        |45                |\n",
      "|ACM SIGMOD Digit. Rev.      |45                |\n",
      "|IWBS Report                 |45                |\n",
      "|ACM Trans. Database Syst.   |45                |\n",
      "|VLDB J.                     |45                |\n",
      "|LILOG-Report                |44                |\n",
      "|ACM Comput. Surv.           |44                |\n",
      "|Commun. ACM                 |28                |\n",
      "+----------------------------+------------------+\n",
      "\n"
     ]
    }
   ],
   "source": [
    "result = df_article \\\n",
    "    .select(col(\"journal\"), explode(\"keyword\")) \\\n",
    "    .withColumnRenamed(\"col\", \"keyword\") \\\n",
    "    .groupBy(\"journal\") \\\n",
    "    .agg(countDistinct(\"journal\", \"keyword\")) \\\n",
    "    .withColumnRenamed(\"count(journal, keyword)\", \"number of keywords\") \\\n",
    "    .filter(col(\"number of keywords\") > 25) \\\n",
    "    .sort(col(\"number of keywords\").desc())\n",
    "    \n",
    "result.limit(10).show(truncate = False)\n"
   ]
  }
 ],
 "metadata": {
  "kernelspec": {
   "display_name": "Python 3.10.8 64-bit (microsoft store)",
   "language": "python",
   "name": "python3"
  },
  "language_info": {
   "codemirror_mode": {
    "name": "ipython",
    "version": 3
   },
   "file_extension": ".py",
   "mimetype": "text/x-python",
   "name": "python",
   "nbconvert_exporter": "python",
   "pygments_lexer": "ipython3",
   "version": "3.10.8"
  },
  "orig_nbformat": 4,
  "vscode": {
   "interpreter": {
    "hash": "19d762ffc7d2f958e0963c75da0d959adf181f4ac62524ed3e80179df28269f1"
   }
  }
 },
 "nbformat": 4,
 "nbformat_minor": 2
}
