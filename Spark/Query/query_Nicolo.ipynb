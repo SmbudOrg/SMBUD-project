{
 "cells": [
  {
   "cell_type": "code",
   "execution_count": 40,
   "metadata": {},
   "outputs": [],
   "source": [
    "from pyspark.sql import SparkSession\n",
    "from pyspark.sql.types import StructType, StructField, StringType, FloatType, ArrayType\n",
    "from pyspark.sql.functions import col                       # Filtering using the col() function\n",
    "from pyspark.sql.functions import array_contains            # Filtering on array columns\n",
    "from pyspark.sql.functions import explode                   # Explode Arrays in Individual Rows\n",
    "from pyspark.sql.functions import sum, avg, count, max      # Multiple Aggregations\n",
    "from pyspark.sql.functions import first, last\n",
    "from pyspark.sql.functions import countDistinct\n",
    "from pyspark.sql.functions import lit, array\n",
    "from pyspark.sql.functions import when\n",
    "\n",
    "# Create an entry point to the PySpark Application\n",
    "spark = SparkSession.builder \\\n",
    "      .master(\"local\") \\\n",
    "      .appName(\"MyFirstSparkApplication\") \\\n",
    "      .getOrCreate()"
   ]
  },
  {
   "cell_type": "code",
   "execution_count": 41,
   "metadata": {},
   "outputs": [],
   "source": [
    "#IMPORT\n",
    "\n",
    "df_book = spark.read.option(\"multiline\",\"true\")  \\\n",
    "      .json(\"Datasets/book-db.json\")\n",
    "\n",
    "df_article = spark.read.option(\"multiline\",\"true\")  \\\n",
    "      .json(\"Datasets/article-db.json\")\n",
    "\n",
    "df_incollection = spark.read.option(\"multiline\",\"true\")  \\\n",
    "      .json(\"Datasets/incollection-db.json\")\n",
    "\n",
    "df_www = spark.read.option(\"multiline\",\"true\")  \\\n",
    "      .json(\"Datasets/www-db.json\")\n"
   ]
  },
  {
   "cell_type": "code",
   "execution_count": 6,
   "metadata": {},
   "outputs": [
    {
     "name": "stdout",
     "output_type": "stream",
     "text": [
      "+--------------------+---------+--------------------+--------------------+--------------------+--------------------+--------------------+----+-----+---------+--------------------+------+----+\n",
      "|              author|citations|                cite|                  ee|             journal|                 key|             keyword|note|pages|publisher|               title|volume|year|\n",
      "+--------------------+---------+--------------------+--------------------+--------------------+--------------------+--------------------+----+-----+---------+--------------------+------+----+\n",
      "|[{Dennis E. Shash...|       81|[journals/is/Jens...|[http://sites.com...|IEEE Data Eng. Bull.|journals/debu/Sha...|[java, graphs, de...|null|   37|     null|Tuning Time Serie...|    22|1999|\n",
      "|[{Nick Roussopoul...|     null|[conf/sigmod/Blak...|[http://sites.com...|IEEE Data Eng. Bull.|journals/debu/Rou...|[debugging, graph...|null|   27|     null|The ADMS Project:...|    18|1995|\n",
      "|[{Giansalvatore M...|     null|[www/org/w3/ql98,...|[http://sites.com...|IEEE Data Eng. Bull.|journals/debu/Mec...|[algorithms, ai, ...|null|    4|     null|Araneus in the Er...|    22|1999|\n",
      "|[{Dimitrios Georg...|     null|[books/mk/elmagar...|[http://sites.com...|IEEE Data Eng. Bull.|journals/debu/Geo...|                null|null|   40|     null|An Extended Trans...|    16|1993|\n",
      "|[{Max J. Egenhofe...|       88|[journals/cacm/Al...|[http://sites.com...|IEEE Data Eng. Bull.|journals/debu/Ege...|[c#, computer sci...|null|   26|     null|Definitions of Li...|    16|1993|\n",
      "|[{Jaideep Srivast...|      123|[journals/tkde/Bo...|[http://sites.com...|IEEE Data Eng. Bull.|journals/debu/Sri...|[redis, data mini...|null|   45|     null|Data Declustering...|    17|1994|\n",
      "|[{Surajit Chaudhu...|       72|[conf/vldb/Chaudh...|[http://sites.com...|IEEE Data Eng. Bull.|journals/debu/Cha...|[A*, data mining,...|null|   45|     null|Self-Tuning Techn...|    22|1999|\n",
      "|[{Joachim Hammer,...|        0|[conf/sigmod/Abit...|[http://sites.com...|IEEE Data Eng. Bull.|journals/debu/Ham...|[data mining, red...|null|   30|     null|The Stanford Data...|    18|1995|\n",
      "|[{Goetz Graefe, G...|        4|[conf/sigmod/Blak...|[http://sites.com...|IEEE Data Eng. Bull.|journals/debu/Gra...|                null|null|   15|     null|The Cascades Fram...|    18|1995|\n",
      "|[{Georgios Evange...|     null|[journals/tse/Ben...|[http://sites.com...|IEEE Data Eng. Bull.|journals/debu/Eva...|                null|null|   22|     null|Using the Holy Br...|    16|1993|\n",
      "|[{Praveen Seshadr...|      128|[conf/icde/Aberer...|[http://sites.com...|IEEE Data Eng. Bull.|journals/debu/Ses...|[data processing,...|null|   29|     null|E-ADTs: Turbo-Cha...|    19|1996|\n",
      "|[{Theodore Johnso...|     null|[conf/vldb/ChanI9...|[http://sites.com...|IEEE Data Eng. Bull.|journals/debu/Joh...|[cloud computing,...|null|   32|     null|Some Approaches t...|    22|1999|\n",
      "|[{Gang Zhou, Gang...|     null|[books/aw/Abitebo...|[http://sites.com...|IEEE Data Eng. Bull.|journals/debu/Zho...|[interfaces, non-...|null|    9|     null|Data Integration ...|    18|1995|\n",
      "|[{Joseph M. Helle...|      114|[conf/icde/AikenC...|[http://sites.com...|IEEE Data Eng. Bull.|journals/debu/Hel...|     [A*, neo4j, A*]|null|   48|     null|Online Processing...|    20|1997|\n",
      "|[{Norbert Fuhr, N...|     null|[conf/sigir/Allen...|[http://sites.com...|IEEE Data Eng. Bull.|journals/debu/Fuhr96|[dijkstra, graph ...|null|   47|     null|Models for Integr...|    19|1996|\n",
      "|[{Gio Wiederhold,...|     null|[conf/dasfaa/El-S...|[http://sites.com...|IEEE Data Eng. Bull.|journals/debu/Wie...|[cloud computing,...|null|   43|     null|Multimedia Databa...|    14|1991|\n",
      "|[{Narain H. Gehan...|      119|[conf/vldb/Gehani...|[http://sites.com...|IEEE Data Eng. Bull.|journals/debu/Geh...|[A*, relational d...|null|   26|     null|Active Database F...|    15|1992|\n",
      "|[{Mary F. Fernand...|     null|[conf/icdt/Abiteb...|[http://sites.com...|IEEE Data Eng. Bull.|journals/debu/Fer...|[cloud computing,...|null|    8|     null|Web-Site Manageme...|    21|1998|\n",
      "|[{Andreas Reuter ...|       85|[books/mk/Elmagar...|[http://sites.com...|IEEE Data Eng. Bull.|journals/debu/Reu...|[A*, interfaces, ...|null|   22|     null|ConTracts - A Low...|    18|1995|\n",
      "|[{Manish Arya, Ma...|       36|[conf/sigmod/Agra...|[http://sites.com...|IEEE Data Eng. Bull.|journals/debu/Ary...|                [ai]|null|    2|     null|QBISM: A Prototyp...|    16|1993|\n",
      "+--------------------+---------+--------------------+--------------------+--------------------+--------------------+--------------------+----+-----+---------+--------------------+------+----+\n",
      "only showing top 20 rows\n",
      "\n",
      "+--------------------+---------+--------+--------------------+--------------------+--------------------+--------------------+--------------------+-----+--------------------+--------------------+--------------------+------+----+\n",
      "|              author|citations|crossref|              editor|                  ee|                isbn|                 key|             keyword|pages|           publisher|              series|               title|volume|year|\n",
      "+--------------------+---------+--------+--------------------+--------------------+--------------------+--------------------+--------------------+-----+--------------------+--------------------+--------------------+------+----+\n",
      "|                null|       85|    null|[{Janusz Kacprzyk...|[https://doi.org/...|[978-3-662-43504-...| reference/sp/2015ci|                null| null|            Springer|{db/series/shb/in...|Springer Handbook...|  null|2015|\n",
      "|                null|     null|    null|[{Erik Blasch, Er...|[https://doi.org/...|[978-3-319-95503-...|reference/sp/2018...|                null| null|            Springer|                null|Handbook of Dynam...|  null|2018|\n",
      "|                null|       95|    null|[{Francesco Ricci...|[https://doi.org/...|[978-1-4899-7636-...|reference/sp/2015rsh|    [A*, javascript]| null|            Springer|                null|Recommender Syste...|  null|2015|\n",
      "|                null|     null|    null|[{Samee U. Khan, ...|[https://doi.org/...| [978-1-4939-2091-4]| reference/sp/2015dc|                null| null|            Springer|                null|Handbook on Data ...|  null|2015|\n",
      "|                null|      117|    null|[{Ling Liu, Ling ...|[https://doi.org/...|[978-1-4614-8266-...|   reference/db/2018|                [ai]| null|            Springer|                null|Encyclopedia of D...|  null|2018|\n",
      "|                null|     null|    null|[{Birgit Vogel-He...|[https://doi.org/...|[978-3-662-53247-...|reference/industr...|[software enginee...| null|            Springer|{null, Springer R...|Handbuch Industri...|  null|2017|\n",
      "|                null|       76|    null|[{Birgit Vogel-He...|[https://doi.org/...|[978-3-662-45278-...|reference/industr...|[computer science...| null|            Springer|{null, Springer R...|Handbuch Industri...|  null|2017|\n",
      "|                null|     null|    null|[{Birgit Vogel-He...|[https://doi.org/...|[978-3-662-53250-...|reference/industr...|                null| null|            Springer|{null, Springer R...|Handbuch Industri...|  null|2017|\n",
      "|                null|       14|    null|[{Birgit Vogel-He...|[https://doi.org/...|[978-3-662-53253-...|reference/industr...|                null| null|            Springer|{null, Springer R...|Handbuch Industri...|  null|2017|\n",
      "|                null|       84|    null|[{Edmund M. Clark...|[https://doi.org/...|[978-3-319-10574-...|   reference/mc/2018|                null| null|            Springer|                null|Handbook of Model...|  null|2018|\n",
      "|                null|     null|    null|[{Bruno Siciliano...|[https://doi.org/...|[978-3-319-32550-...| reference/robo/2016|[graphs, html, gr...| null|            Springer|{db/series/shb/in...|Springer Handbook...|  null|2016|\n",
      "|                null|     null|    null|[{Arthur Tatnall,...|[https://doi.org/...| [978-3-319-60013-0]|  reference/edu/2020|                null| null|Springer Internat...|                null|Encyclopedia of E...|  null|2020|\n",
      "|                null|      122|    null|[{Anna Visvizi, 0...|[https://doi.org/...| [978-3-030-84311-3]|  conf/riiforum/2021|                null| null|Springer Internat...|{null, Springer P...|Research and Inno...|  null|2021|\n",
      "|                null|     null|    null|[{Jeff Z. Pan, Je...|[https://doi.org/...|[978-3-319-45652-...|   books/sp/PVGW2017|[key-value databa...| null|            Springer|                null|Exploiting Linked...|  null|2017|\n",
      "|[{Mitsunori Ogiha...|     null|    null|                null|[https://doi.org/...| [978-3-319-89490-4]|  books/sp/Ogihara18|[algorithms, mult...|  304|            Springer|                null|Fundamentals of J...|  null|2018|\n",
      "|[{Alberto Fernand...|      106|    null|                null|[https://doi.org/...| [978-3-319-98073-7]|books/sp/Fernande...|[algorithms, grap...|  441|            Springer|                null|Learning from Imb...|  null|2018|\n",
      "|[{Sergio Damas, 0...|       12|    null|                null|[https://doi.org/...| [978-3-319-11136-0]|  books/sp/DamasCI20|[machine learning...|  471|            Springer|                null|Handbook on Crani...|  null|2020|\n",
      "|                null|     null|    null|[{Kuan-Ching Li, ...|[https://doi.org/...|[978-981-13-1482-...|    books/sp/LCS2019|                null| null|            Springer|                null|Advances in Cyber...|  null|2019|\n",
      "|[{Nan Cao, 0000-0...|       67|    null|                null|[https://doi.org/...|[978-94-6239-185-...|     books/sp/CaoC16|       [graphs, c89]|   90|      Atlantis Press|{null, Atlantis B...|Introduction to T...|     1|2016|\n",
      "|[{Jose A. Ondivie...|       87|    null|                null|[https://doi.org/...| [978-3-030-83370-1]|books/sp/Ondiviela21|[cypher, data min...|  126|            Springer|                null|Beyond Smart Citi...|  null|2021|\n",
      "+--------------------+---------+--------+--------------------+--------------------+--------------------+--------------------+--------------------+-----+--------------------+--------------------+--------------------+------+----+\n",
      "only showing top 20 rows\n",
      "\n",
      "+--------------------+---------+--------------------+--------------------+--------------------+--------------------+-----+--------------------+----+\n",
      "|              author|citations|            crossref|                  ee|                 key|             keyword|pages|               title|year|\n",
      "+--------------------+---------+--------------------+--------------------+--------------------+--------------------+-----+--------------------+----+\n",
      "|[{Jingtao Yao 000...|       16| reference/sp/2015ci|[https://doi.org/...|reference/sp/YaoCZ15|[q-learning, test...|   13|Generalized Rough...|2015|\n",
      "|[{Haluk Damgaciog...|     null|reference/sp/2018...|[https://doi.org/...|reference/sp/Damg...|                [ai]|   41|Dynamic Data Driv...|2018|\n",
      "|[{Kenneth Sorense...|      131|reference/sp/2018...|[https://doi.org/...|reference/sp/Sore...|                null|   20|A History of Meta...|2018|\n",
      "|[{Francisco Luna,...|     null| reference/sp/2015ci|[https://doi.org/...|reference/sp/LunaA15|                null|   27|Parallel Multiobj...|2015|\n",
      "|[{Hisao Ishibuchi...|      133| reference/sp/2015ci|[https://doi.org/...|reference/sp/Ishi...|[unstructured dat...|   11|Multiobjective Ge...|2015|\n",
      "|[{Manuel Laguna, ...|       82|reference/sp/2018...|[https://doi.org/...|reference/sp/Lagu...|                null|   26|        Tabu Search.|2018|\n",
      "|[{Ismael Rodrigue...|     null| reference/sp/2015ci|[https://doi.org/...|reference/sp/Rodr...|                null|   17|Application of Fu...|2015|\n",
      "|[{Shuai Mu 0001, ...|     null| reference/sp/2015dc|[https://doi.org/...|reference/sp/MuSG...|[graphs, cloud co...|   20|Cloud Storage ove...|2015|\n",
      "|[{Oliver Dorn, 00...|     null|reference/sp/2015mmi|[https://doi.org/...|reference/sp/DornL15|                null|   25|Level Set Methods...|2015|\n",
      "|[{Jose Fernando G...|     null|reference/sp/2018...|[https://doi.org/...|reference/sp/Gonc...|                null|    3|Random-Key Geneti...|2018|\n",
      "|[{Alexander Felfe...|     null|reference/sp/2015rsh|[https://doi.org/...|reference/sp/Felf...|[mongodb, graph m...|    3|Constraint-Based ...|2015|\n",
      "|[{Vinicius W. C. ...|     null|reference/sp/2018...|[https://doi.org/...|reference/sp/Mora...|                null|   40|Optimization Prob...|2018|\n",
      "|[{Martina Fischet...|      101|reference/sp/2018...|[https://doi.org/...|reference/sp/Fisc...|                null|   39|      Matheuristics.|2018|\n",
      "|[{Nurali Virani, ...|       54|reference/sp/2018...|[https://doi.org/...|reference/sp/Vira...|[data processing,...|    5|On Compression of...|2018|\n",
      "|[{Claudio Bettini...|     null|reference/sp/2018mdp|[https://doi.org/...|reference/sp/Bett...|                null|   14|Privacy Protectio...|2018|\n",
      "|[{Ruben Ruiz, 000...|     null|reference/sp/2018...|[https://doi.org/...| reference/sp/Ruiz18|           [mongodb]|   13|Scheduling Heuris...|2018|\n",
      "|[{Rafael Marti, R...|      101|reference/sp/2018...|[https://doi.org/...|reference/sp/Mart...|             [neo4j]|   18|Multi-start Methods.|2018|\n",
      "|[{Jonathan E. Row...|     null| reference/sp/2015ci|[https://doi.org/...| reference/sp/Rowe15|[computer archite...|    4| Genetic Algorithms.|2015|\n",
      "|[{Gleb Beliakov, ...|     null|reference/sp/2015rsh|[https://doi.org/...|reference/sp/Beli...|                [A*]|    5|Aggregation Funct...|2015|\n",
      "|[{Leah Bar, Leah ...|     null|reference/sp/2015mmi|[https://doi.org/...|reference/sp/BarC...|   [data processing]|   15|Mumford and Shah ...|2015|\n",
      "+--------------------+---------+--------------------+--------------------+--------------------+--------------------+-----+--------------------+----+\n",
      "only showing top 20 rows\n",
      "\n",
      "+--------------------+--------------------+--------------------+--------------------+\n",
      "|              author|                 key|                note|                 url|\n",
      "+--------------------+--------------------+--------------------+--------------------+\n",
      "|[{Alejandro Rodri...|  homepages/189/9749|[Western Norway U...|[https://orcid.or...|\n",
      "|[{Kikuo Fujimura,...|homepages/f/Kikuo...|[Ohio State Unive...|[http://www.cse.o...|\n",
      "|[{Pierfrancesco F...|homepages/f/Pierf...|                null|[http://garga.iet...|\n",
      "|[{Farshad Fotouhi...|homepages/f/Farsh...|[Wayne State Univ...|[http://www.cs.wa...|\n",
      "|[{Ada Wai-Chee Fu...|homepages/f/AdaWa...|                null|[http://www.cs.cu...|\n",
      "|[{Robert B. Franc...|homepages/f/RBFrance|[Colorado State U...|[http://www.cs.co...|\n",
      "|[{Jan Flokstra, J...|homepages/f/JanFl...|[University of Tw...|[http://www.cs.ut...|\n",
      "|[{Maria Grazia Fu...|homepages/f/Maria...|[Polytechnic Univ...|[http://fugini.fa...|\n",
      "|[{Dieter W. Felln...|homepages/f/DWFel...|[Fraunhofer Insti...|[http://www.igd.f...|\n",
      "|[{Francois Fages,...|homepages/f/Franc...|     [INRIA, France]|[http://contraint...|\n",
      "|[{Andrew Fetterer...|homepages/f/Andre...|                null|[http://www.fette...|\n",
      "|[{Piero Fraternal...|homepages/f/Piero...|[Polytechnic Univ...|[http://www.elet....|\n",
      "|[{Jerome Feret, J...|homepages/f/Jerom...| [ENS Paris, France]|[http://www.di.en...|\n",
      "|[{Alvaro A. A. Fe...|homepages/f/AAAFe...|[University of Ma...|[http://www.cs.ma...|\n",
      "|[{Simone Fischer-...|homepages/f/Simon...|[Karlstad Univers...|[http://www.cs.ka...|\n",
      "|[{Pedro Furtado 0...|homepages/f/Pedro...|[University of Co...|[http://eden.dei....|\n",
      "|[{W. Kent Fuchs, ...|homepages/f/WKent...|[Purdue Universit...|[http://composer....|\n",
      "|[{Ronald Fagin, R...|homepages/f/Ronal...|[IBM Almaden Rese...|[https://research...|\n",
      "|[{Elena Ferrari, ...|homepages/f/Elena...|[University of In...|[http://www.dicom...|\n",
      "|[{Usama M. Fayyad...|homepages/f/Usama...|                null|[http://www-aig.j...|\n",
      "+--------------------+--------------------+--------------------+--------------------+\n",
      "only showing top 20 rows\n",
      "\n"
     ]
    }
   ],
   "source": [
    "df_article.show()\n",
    "df_book.show()\n",
    "df_incollection.show()\n",
    "df_www.show()\n"
   ]
  },
  {
   "cell_type": "markdown",
   "metadata": {},
   "source": [
    "# **1. Top Journals for heterogeneity of topics**\n",
    "This query is useful to obtain the most heterogeneous journals, i.e. the ones whose articles cover a good number of topics. \n",
    "In this case, we want the top 10 journals that have published articles related to at least 25 different keywords."
   ]
  },
  {
   "cell_type": "code",
   "execution_count": 4,
   "metadata": {},
   "outputs": [
    {
     "name": "stdout",
     "output_type": "stream",
     "text": [
      "+----------------------------+------------------+\n",
      "|journal                     |number of keywords|\n",
      "+----------------------------+------------------+\n",
      "|SIGMOD Rec.                 |45                |\n",
      "|IEEE Trans. Knowl. Data Eng.|45                |\n",
      "|IEEE Data Eng. Bull.        |45                |\n",
      "|ACM SIGMOD Digit. Rev.      |45                |\n",
      "|IWBS Report                 |45                |\n",
      "|ACM Trans. Database Syst.   |45                |\n",
      "|VLDB J.                     |45                |\n",
      "|LILOG-Report                |44                |\n",
      "|ACM Comput. Surv.           |44                |\n",
      "|Commun. ACM                 |28                |\n",
      "+----------------------------+------------------+\n",
      "\n"
     ]
    }
   ],
   "source": [
    "result = df_article \\\n",
    "    .select(col(\"journal\"), explode(\"keyword\")) \\\n",
    "    .withColumnRenamed(\"col\", \"keyword\") \\\n",
    "    .groupBy(\"journal\") \\\n",
    "    .agg(countDistinct(\"journal\", \"keyword\")) \\\n",
    "    .withColumnRenamed(\"count(journal, keyword)\", \"number of keywords\") \\\n",
    "    .filter(col(\"number of keywords\") > 25) \\\n",
    "    .sort(col(\"number of keywords\").desc())\n",
    "    \n",
    "result.limit(10).show(truncate = False)\n"
   ]
  },
  {
   "cell_type": "markdown",
   "metadata": {},
   "source": [
    "# **2. Find books not about a certain topic and related to favourite Publishers**\n",
    "This query is useful if you want to buy a book which has been published by one of your favourite publishers but that does not treat a certain topic, for example because you have already studied it or because you just simply don't like it."
   ]
  },
  {
   "cell_type": "code",
   "execution_count": 22,
   "metadata": {},
   "outputs": [
    {
     "name": "stdout",
     "output_type": "stream",
     "text": [
      "+-------------------------------------------+----------------+----+--------------------------------------+\n",
      "|title                                      |publisher       |year|isbn                                  |\n",
      "+-------------------------------------------+----------------+----+--------------------------------------+\n",
      "|Introduction to Text Visualization         |Atlantis Press  |2016|[978-94-6239-185-7, 978-94-6239-186-4]|\n",
      "|Cognitive Design for Artificial Minds      |Routledge       |2021|[9781138207950]                       |\n",
      "|Evaluating Gas Network Capacities          |SIAM            |2015|[978-1-611-97368-6]                   |\n",
      "|Adaptive Cloud Enterprise Architecture     |World Scientific|2015|[978-981-4632-12-6, 978-981-4632-14-0]|\n",
      "|Information Theory Tools for Visualization.|CRC Press       |2016|[9781315369228]                       |\n",
      "+-------------------------------------------+----------------+----+--------------------------------------+\n",
      "\n"
     ]
    }
   ],
   "source": [
    "favourite_publishers = [\"CRC Press\", \"World Scientific\", \"Routledge\", \"SIAM\", \"Atlantis Press\"]\n",
    "hated_topic = \"data processing\"\n",
    "df_book_favPubl = df_book.filter(col(\"publisher\").isin(favourite_publishers))\n",
    "result = df_book_favPubl.filter(array_contains(df_book_favPubl.keyword, hated_topic) == False) \\\n",
    "    .select(col(\"title\"), col(\"publisher\"), col(\"year\"), col(\"isbn\")) \\\n",
    "    .limit(5) \\\n",
    "    .show(truncate=False)"
   ]
  },
  {
   "attachments": {},
   "cell_type": "markdown",
   "metadata": {},
   "source": [
    "# **3. Update the available URL for a certain author**\n",
    "This query could be useful in a scenario where an author decides that the link to his webpage (specified by him to the dataframe admin) should be the only link available among the various URLs associated to him in the dataframe, thus deleting all the other URLs uploaded in the past.\n",
    "Here is shown another possible method to save the keys related to an author, different from the one proposed in the command \"Delete PUBLICATIONS of an author\"."
   ]
  },
  {
   "cell_type": "code",
   "execution_count": 42,
   "metadata": {},
   "outputs": [
    {
     "name": "stdout",
     "output_type": "stream",
     "text": [
      "+--------------------------------+------------------------+---------------------------------------+------------------------------------------------------------------------------------------------------------------------------------------------------------------------------------------------------------------------------------------------------------------------------------------------------------------------------------------------------------------------------------------------------------------------------------------------------------------------------------------------------------------------------------------------+\n",
      "|author                          |key                     |note                                   |url                                                                                                                                                                                                                                                                                                                                                                                                                                                                                                                                             |\n",
      "+--------------------------------+------------------------+---------------------------------------+------------------------------------------------------------------------------------------------------------------------------------------------------------------------------------------------------------------------------------------------------------------------------------------------------------------------------------------------------------------------------------------------------------------------------------------------------------------------------------------------------------------------------------------------+\n",
      "|[{Elena Ferrari, Elena Ferrari}]|homepages/f/ElenaFerrari|[University of Insubria, Varese, Italy]|[http://www.dicom.uninsubria.it/~elena.ferrari/, https://loop.frontiersin.org/people/548775/, https://www.acm.org/articles/people-of-acm/2020/elena-ferrari, https://scholar.google.com/citations?user=kOc4beIAAAAJ, https://dl.acm.org/profile/81339498938, https://mathgenealogy.org/id.php?id=182142, https://en.wikipedia.org/wiki/Elena_Ferrari, https://orcid.org/0000-0002-7312-6769, https://www.wikidata.org/entity/Q58733715, https://www.wikidata.org/entity/Q30122307, https://www.scopus.com/authid/detail.uri?authorId=7202281602]|\n",
      "+--------------------------------+------------------------+---------------------------------------+------------------------------------------------------------------------------------------------------------------------------------------------------------------------------------------------------------------------------------------------------------------------------------------------------------------------------------------------------------------------------------------------------------------------------------------------------------------------------------------------------------------------------------------------+\n",
      "\n",
      "+--------------------------------+------------------------+---------------------------------------+------------------------------------------------+\n",
      "|author                          |key                     |note                                   |url                                             |\n",
      "+--------------------------------+------------------------+---------------------------------------+------------------------------------------------+\n",
      "|[{Elena Ferrari, Elena Ferrari}]|homepages/f/ElenaFerrari|[University of Insubria, Varese, Italy]|[http://www.dicom.uninsubria.it/~elena.ferrari/]|\n",
      "+--------------------------------+------------------------+---------------------------------------+------------------------------------------------+\n",
      "\n"
     ]
    }
   ],
   "source": [
    "target_key = df_www  \\\n",
    "    .select(explode(df_www.author), df_www.key)   \\\n",
    "    .withColumnRenamed(\"col\", \"author\") \\\n",
    "    .filter(col(\"author.name\") == \"Elena Ferrari\") \\\n",
    "    .select(col(\"key\")) \\\n",
    "    .collect()\n",
    "\n",
    "target_key = [k[0] for k in target_key]\n",
    "\n",
    "# show before update \n",
    "df_www.filter(df_www.key.isin(target_key)) \\\n",
    "      .show(truncate=False)\n",
    "\n",
    "df_www = df_www \\\n",
    "    .withColumn(\"url\",\n",
    "        when(\n",
    "            df_www.key.isin(target_key), array(lit(\"http://www.dicom.uninsubria.it/~elena.ferrari/\"))\n",
    "        ) \\\n",
    "        .otherwise(df_www.url)) \n",
    "\n",
    "#show after update\n",
    "df_www.filter(df_www.key.isin(target_key)) \\\n",
    "      .show(truncate=False)\n",
    "    "
   ]
  }
 ],
 "metadata": {
  "kernelspec": {
   "display_name": "Python 3.10.8 64-bit (microsoft store)",
   "language": "python",
   "name": "python3"
  },
  "language_info": {
   "codemirror_mode": {
    "name": "ipython",
    "version": 3
   },
   "file_extension": ".py",
   "mimetype": "text/x-python",
   "name": "python",
   "nbconvert_exporter": "python",
   "pygments_lexer": "ipython3",
   "version": "3.10.8"
  },
  "orig_nbformat": 4,
  "vscode": {
   "interpreter": {
    "hash": "19d762ffc7d2f958e0963c75da0d959adf181f4ac62524ed3e80179df28269f1"
   }
  }
 },
 "nbformat": 4,
 "nbformat_minor": 2
}
